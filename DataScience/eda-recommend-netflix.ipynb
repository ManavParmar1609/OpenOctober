{
 "cells": [
  {
   "cell_type": "code",
   "execution_count": 1,
   "id": "a671b254",
   "metadata": {
    "_cell_guid": "b1076dfc-b9ad-4769-8c92-a6c4dae69d19",
    "_uuid": "8f2839f25d086af736a60e9eeb907d3b93b6e0e5",
    "execution": {
     "iopub.execute_input": "2021-10-07T11:38:34.483886Z",
     "iopub.status.busy": "2021-10-07T11:38:34.483046Z",
     "iopub.status.idle": "2021-10-07T11:38:34.497027Z",
     "shell.execute_reply": "2021-10-07T11:38:34.496461Z",
     "shell.execute_reply.started": "2021-10-07T11:30:56.642700Z"
    },
    "papermill": {
     "duration": 0.066095,
     "end_time": "2021-10-07T11:38:34.497175",
     "exception": false,
     "start_time": "2021-10-07T11:38:34.431080",
     "status": "completed"
    },
    "tags": []
   },
   "outputs": [
    {
     "name": "stdout",
     "output_type": "stream",
     "text": [
      "/kaggle/input/netflix-shows/netflix_titles.csv\n"
     ]
    }
   ],
   "source": [
    "# This Python 3 environment comes with many helpful analytics libraries installed\n",
    "# It is defined by the kaggle/python Docker image: https://github.com/kaggle/docker-python\n",
    "# For example, here's several helpful packages to load\n",
    "\n",
    "import numpy as np # linear algebra\n",
    "import pandas as pd # data processing, CSV file I/O (e.g. pd.read_csv)\n",
    "\n",
    "# Input data files are available in the read-only \"../input/\" directory\n",
    "# For example, running this (by clicking run or pressing Shift+Enter) will list all files under the input directory\n",
    "\n",
    "import os\n",
    "for dirname, _, filenames in os.walk('/kaggle/input'):\n",
    "    for filename in filenames:\n",
    "        print(os.path.join(dirname, filename))\n",
    "\n",
    "# You can write up to 20GB to the current directory (/kaggle/working/) that gets preserved as output when you create a version using \"Save & Run All\" \n",
    "# You can also write temporary files to /kaggle/temp/, but they won't be saved outside of the current session"
   ]
  },
  {
   "cell_type": "code",
   "execution_count": 2,
   "id": "a2bbb80c",
   "metadata": {
    "execution": {
     "iopub.execute_input": "2021-10-07T11:38:34.586350Z",
     "iopub.status.busy": "2021-10-07T11:38:34.585702Z",
     "iopub.status.idle": "2021-10-07T11:38:35.382777Z",
     "shell.execute_reply": "2021-10-07T11:38:35.383204Z",
     "shell.execute_reply.started": "2021-10-07T11:30:56.678810Z"
    },
    "papermill": {
     "duration": 0.850016,
     "end_time": "2021-10-07T11:38:35.383414",
     "exception": false,
     "start_time": "2021-10-07T11:38:34.533398",
     "status": "completed"
    },
    "tags": []
   },
   "outputs": [
    {
     "name": "stdout",
     "output_type": "stream",
     "text": [
      "/kaggle/working\r\n"
     ]
    }
   ],
   "source": [
    "!pwd"
   ]
  },
  {
   "cell_type": "code",
   "execution_count": 3,
   "id": "c6b5c10c",
   "metadata": {
    "execution": {
     "iopub.execute_input": "2021-10-07T11:38:35.461413Z",
     "iopub.status.busy": "2021-10-07T11:38:35.460748Z",
     "iopub.status.idle": "2021-10-07T11:38:36.309637Z",
     "shell.execute_reply": "2021-10-07T11:38:36.310068Z",
     "shell.execute_reply.started": "2021-10-07T11:30:57.491633Z"
    },
    "papermill": {
     "duration": 0.891092,
     "end_time": "2021-10-07T11:38:36.310262",
     "exception": false,
     "start_time": "2021-10-07T11:38:35.419170",
     "status": "completed"
    },
    "tags": []
   },
   "outputs": [],
   "source": [
    "import numpy as np\n",
    "import pandas as pd\n",
    "import matplotlib.pyplot as plt\n",
    "import seaborn as sns\n",
    "%matplotlib inline\n",
    "pd.set_option('display.max_rows', 10)"
   ]
  },
  {
   "cell_type": "code",
   "execution_count": 4,
   "id": "24d12d09",
   "metadata": {
    "execution": {
     "iopub.execute_input": "2021-10-07T11:38:36.390918Z",
     "iopub.status.busy": "2021-10-07T11:38:36.390289Z",
     "iopub.status.idle": "2021-10-07T11:38:36.557717Z",
     "shell.execute_reply": "2021-10-07T11:38:36.557039Z",
     "shell.execute_reply.started": "2021-10-07T11:30:58.562652Z"
    },
    "papermill": {
     "duration": 0.209779,
     "end_time": "2021-10-07T11:38:36.557905",
     "exception": false,
     "start_time": "2021-10-07T11:38:36.348126",
     "status": "completed"
    },
    "tags": []
   },
   "outputs": [
    {
     "data": {
      "text/html": [
       "<div>\n",
       "<style scoped>\n",
       "    .dataframe tbody tr th:only-of-type {\n",
       "        vertical-align: middle;\n",
       "    }\n",
       "\n",
       "    .dataframe tbody tr th {\n",
       "        vertical-align: top;\n",
       "    }\n",
       "\n",
       "    .dataframe thead th {\n",
       "        text-align: right;\n",
       "    }\n",
       "</style>\n",
       "<table border=\"1\" class=\"dataframe\">\n",
       "  <thead>\n",
       "    <tr style=\"text-align: right;\">\n",
       "      <th></th>\n",
       "      <th>show_id</th>\n",
       "      <th>type</th>\n",
       "      <th>title</th>\n",
       "      <th>director</th>\n",
       "      <th>cast</th>\n",
       "      <th>country</th>\n",
       "      <th>date_added</th>\n",
       "      <th>release_year</th>\n",
       "      <th>rating</th>\n",
       "      <th>duration</th>\n",
       "      <th>listed_in</th>\n",
       "      <th>description</th>\n",
       "    </tr>\n",
       "  </thead>\n",
       "  <tbody>\n",
       "    <tr>\n",
       "      <th>0</th>\n",
       "      <td>s1</td>\n",
       "      <td>Movie</td>\n",
       "      <td>Dick Johnson Is Dead</td>\n",
       "      <td>Kirsten Johnson</td>\n",
       "      <td>NaN</td>\n",
       "      <td>United States</td>\n",
       "      <td>September 25, 2021</td>\n",
       "      <td>2020</td>\n",
       "      <td>PG-13</td>\n",
       "      <td>90 min</td>\n",
       "      <td>Documentaries</td>\n",
       "      <td>As her father nears the end of his life, filmm...</td>\n",
       "    </tr>\n",
       "    <tr>\n",
       "      <th>1</th>\n",
       "      <td>s2</td>\n",
       "      <td>TV Show</td>\n",
       "      <td>Blood &amp; Water</td>\n",
       "      <td>NaN</td>\n",
       "      <td>Ama Qamata, Khosi Ngema, Gail Mabalane, Thaban...</td>\n",
       "      <td>South Africa</td>\n",
       "      <td>September 24, 2021</td>\n",
       "      <td>2021</td>\n",
       "      <td>TV-MA</td>\n",
       "      <td>2 Seasons</td>\n",
       "      <td>International TV Shows, TV Dramas, TV Mysteries</td>\n",
       "      <td>After crossing paths at a party, a Cape Town t...</td>\n",
       "    </tr>\n",
       "    <tr>\n",
       "      <th>2</th>\n",
       "      <td>s3</td>\n",
       "      <td>TV Show</td>\n",
       "      <td>Ganglands</td>\n",
       "      <td>Julien Leclercq</td>\n",
       "      <td>Sami Bouajila, Tracy Gotoas, Samuel Jouy, Nabi...</td>\n",
       "      <td>NaN</td>\n",
       "      <td>September 24, 2021</td>\n",
       "      <td>2021</td>\n",
       "      <td>TV-MA</td>\n",
       "      <td>1 Season</td>\n",
       "      <td>Crime TV Shows, International TV Shows, TV Act...</td>\n",
       "      <td>To protect his family from a powerful drug lor...</td>\n",
       "    </tr>\n",
       "    <tr>\n",
       "      <th>3</th>\n",
       "      <td>s4</td>\n",
       "      <td>TV Show</td>\n",
       "      <td>Jailbirds New Orleans</td>\n",
       "      <td>NaN</td>\n",
       "      <td>NaN</td>\n",
       "      <td>NaN</td>\n",
       "      <td>September 24, 2021</td>\n",
       "      <td>2021</td>\n",
       "      <td>TV-MA</td>\n",
       "      <td>1 Season</td>\n",
       "      <td>Docuseries, Reality TV</td>\n",
       "      <td>Feuds, flirtations and toilet talk go down amo...</td>\n",
       "    </tr>\n",
       "    <tr>\n",
       "      <th>4</th>\n",
       "      <td>s5</td>\n",
       "      <td>TV Show</td>\n",
       "      <td>Kota Factory</td>\n",
       "      <td>NaN</td>\n",
       "      <td>Mayur More, Jitendra Kumar, Ranjan Raj, Alam K...</td>\n",
       "      <td>India</td>\n",
       "      <td>September 24, 2021</td>\n",
       "      <td>2021</td>\n",
       "      <td>TV-MA</td>\n",
       "      <td>2 Seasons</td>\n",
       "      <td>International TV Shows, Romantic TV Shows, TV ...</td>\n",
       "      <td>In a city of coaching centers known to train I...</td>\n",
       "    </tr>\n",
       "  </tbody>\n",
       "</table>\n",
       "</div>"
      ],
      "text/plain": [
       "  show_id     type                  title         director  \\\n",
       "0      s1    Movie   Dick Johnson Is Dead  Kirsten Johnson   \n",
       "1      s2  TV Show          Blood & Water              NaN   \n",
       "2      s3  TV Show              Ganglands  Julien Leclercq   \n",
       "3      s4  TV Show  Jailbirds New Orleans              NaN   \n",
       "4      s5  TV Show           Kota Factory              NaN   \n",
       "\n",
       "                                                cast        country  \\\n",
       "0                                                NaN  United States   \n",
       "1  Ama Qamata, Khosi Ngema, Gail Mabalane, Thaban...   South Africa   \n",
       "2  Sami Bouajila, Tracy Gotoas, Samuel Jouy, Nabi...            NaN   \n",
       "3                                                NaN            NaN   \n",
       "4  Mayur More, Jitendra Kumar, Ranjan Raj, Alam K...          India   \n",
       "\n",
       "           date_added  release_year rating   duration  \\\n",
       "0  September 25, 2021          2020  PG-13     90 min   \n",
       "1  September 24, 2021          2021  TV-MA  2 Seasons   \n",
       "2  September 24, 2021          2021  TV-MA   1 Season   \n",
       "3  September 24, 2021          2021  TV-MA   1 Season   \n",
       "4  September 24, 2021          2021  TV-MA  2 Seasons   \n",
       "\n",
       "                                           listed_in  \\\n",
       "0                                      Documentaries   \n",
       "1    International TV Shows, TV Dramas, TV Mysteries   \n",
       "2  Crime TV Shows, International TV Shows, TV Act...   \n",
       "3                             Docuseries, Reality TV   \n",
       "4  International TV Shows, Romantic TV Shows, TV ...   \n",
       "\n",
       "                                         description  \n",
       "0  As her father nears the end of his life, filmm...  \n",
       "1  After crossing paths at a party, a Cape Town t...  \n",
       "2  To protect his family from a powerful drug lor...  \n",
       "3  Feuds, flirtations and toilet talk go down amo...  \n",
       "4  In a city of coaching centers known to train I...  "
      ]
     },
     "execution_count": 4,
     "metadata": {},
     "output_type": "execute_result"
    }
   ],
   "source": [
    "data = pd.read_csv('/kaggle/input/netflix-shows/netflix_titles.csv')\n",
    "data.head()"
   ]
  },
  {
   "cell_type": "code",
   "execution_count": 5,
   "id": "8fe37446",
   "metadata": {
    "execution": {
     "iopub.execute_input": "2021-10-07T11:38:36.647541Z",
     "iopub.status.busy": "2021-10-07T11:38:36.646914Z",
     "iopub.status.idle": "2021-10-07T11:38:36.649461Z",
     "shell.execute_reply": "2021-10-07T11:38:36.649888Z",
     "shell.execute_reply.started": "2021-10-07T11:30:58.751394Z"
    },
    "papermill": {
     "duration": 0.048284,
     "end_time": "2021-10-07T11:38:36.650043",
     "exception": false,
     "start_time": "2021-10-07T11:38:36.601759",
     "status": "completed"
    },
    "tags": []
   },
   "outputs": [
    {
     "data": {
      "text/plain": [
       "(8807, 12)"
      ]
     },
     "execution_count": 5,
     "metadata": {},
     "output_type": "execute_result"
    }
   ],
   "source": [
    "data.shape"
   ]
  },
  {
   "cell_type": "code",
   "execution_count": 6,
   "id": "1d46437c",
   "metadata": {
    "execution": {
     "iopub.execute_input": "2021-10-07T11:38:36.731451Z",
     "iopub.status.busy": "2021-10-07T11:38:36.730840Z",
     "iopub.status.idle": "2021-10-07T11:38:36.735248Z",
     "shell.execute_reply": "2021-10-07T11:38:36.735695Z",
     "shell.execute_reply.started": "2021-10-07T11:30:58.762503Z"
    },
    "papermill": {
     "duration": 0.044008,
     "end_time": "2021-10-07T11:38:36.735858",
     "exception": false,
     "start_time": "2021-10-07T11:38:36.691850",
     "status": "completed"
    },
    "tags": []
   },
   "outputs": [],
   "source": [
    "df = data.copy()"
   ]
  },
  {
   "cell_type": "code",
   "execution_count": 7,
   "id": "fe771b60",
   "metadata": {
    "execution": {
     "iopub.execute_input": "2021-10-07T11:38:36.811988Z",
     "iopub.status.busy": "2021-10-07T11:38:36.811463Z",
     "iopub.status.idle": "2021-10-07T11:38:36.839554Z",
     "shell.execute_reply": "2021-10-07T11:38:36.838988Z",
     "shell.execute_reply.started": "2021-10-07T11:30:58.776586Z"
    },
    "papermill": {
     "duration": 0.067249,
     "end_time": "2021-10-07T11:38:36.839700",
     "exception": false,
     "start_time": "2021-10-07T11:38:36.772451",
     "status": "completed"
    },
    "tags": []
   },
   "outputs": [
    {
     "name": "stdout",
     "output_type": "stream",
     "text": [
      "<class 'pandas.core.frame.DataFrame'>\n",
      "RangeIndex: 8807 entries, 0 to 8806\n",
      "Data columns (total 12 columns):\n",
      " #   Column        Non-Null Count  Dtype \n",
      "---  ------        --------------  ----- \n",
      " 0   show_id       8807 non-null   object\n",
      " 1   type          8807 non-null   object\n",
      " 2   title         8807 non-null   object\n",
      " 3   director      6173 non-null   object\n",
      " 4   cast          7982 non-null   object\n",
      " 5   country       7976 non-null   object\n",
      " 6   date_added    8797 non-null   object\n",
      " 7   release_year  8807 non-null   int64 \n",
      " 8   rating        8803 non-null   object\n",
      " 9   duration      8804 non-null   object\n",
      " 10  listed_in     8807 non-null   object\n",
      " 11  description   8807 non-null   object\n",
      "dtypes: int64(1), object(11)\n",
      "memory usage: 825.8+ KB\n"
     ]
    }
   ],
   "source": [
    "df.info()"
   ]
  },
  {
   "cell_type": "code",
   "execution_count": 8,
   "id": "26491cbc",
   "metadata": {
    "execution": {
     "iopub.execute_input": "2021-10-07T11:38:36.943815Z",
     "iopub.status.busy": "2021-10-07T11:38:36.943155Z",
     "iopub.status.idle": "2021-10-07T11:38:36.950703Z",
     "shell.execute_reply": "2021-10-07T11:38:36.951116Z",
     "shell.execute_reply.started": "2021-10-07T11:30:58.822253Z"
    },
    "papermill": {
     "duration": 0.073943,
     "end_time": "2021-10-07T11:38:36.951320",
     "exception": false,
     "start_time": "2021-10-07T11:38:36.877377",
     "status": "completed"
    },
    "tags": []
   },
   "outputs": [
    {
     "data": {
      "text/plain": [
       "show_id            0\n",
       "type               0\n",
       "title              0\n",
       "director        2634\n",
       "cast             825\n",
       "                ... \n",
       "release_year       0\n",
       "rating             4\n",
       "duration           3\n",
       "listed_in          0\n",
       "description        0\n",
       "Length: 12, dtype: int64"
      ]
     },
     "execution_count": 8,
     "metadata": {},
     "output_type": "execute_result"
    }
   ],
   "source": [
    "df.isnull().sum()"
   ]
  },
  {
   "cell_type": "code",
   "execution_count": 9,
   "id": "4a7dcfa7",
   "metadata": {
    "execution": {
     "iopub.execute_input": "2021-10-07T11:38:37.043087Z",
     "iopub.status.busy": "2021-10-07T11:38:37.042385Z",
     "iopub.status.idle": "2021-10-07T11:38:37.190165Z",
     "shell.execute_reply": "2021-10-07T11:38:37.190672Z",
     "shell.execute_reply.started": "2021-10-07T11:30:58.845436Z"
    },
    "papermill": {
     "duration": 0.195117,
     "end_time": "2021-10-07T11:38:37.190853",
     "exception": false,
     "start_time": "2021-10-07T11:38:36.995736",
     "status": "completed"
    },
    "tags": []
   },
   "outputs": [
    {
     "data": {
      "text/plain": [
       "<AxesSubplot:ylabel='type'>"
      ]
     },
     "execution_count": 9,
     "metadata": {},
     "output_type": "execute_result"
    },
    {
     "data": {
      "image/png": "[encoded data removed]",
      "text/plain": [
       "<Figure size 504x504 with 1 Axes>"
      ]
     },
     "metadata": {},
     "output_type": "display_data"
    }
   ],
   "source": [
    "plt.figure(figsize=(7, 7))\n",
    "df['type'].value_counts().plot(kind='pie',autopct='%1.0f%%')"
   ]
  },
  {
   "cell_type": "code",
   "execution_count": 10,
   "id": "0976515e",
   "metadata": {
    "execution": {
     "iopub.execute_input": "2021-10-07T11:38:37.278855Z",
     "iopub.status.busy": "2021-10-07T11:38:37.274857Z",
     "iopub.status.idle": "2021-10-07T11:38:37.282363Z",
     "shell.execute_reply": "2021-10-07T11:38:37.281896Z",
     "shell.execute_reply.started": "2021-10-07T11:30:59.016097Z"
    },
    "papermill": {
     "duration": 0.05014,
     "end_time": "2021-10-07T11:38:37.282499",
     "exception": false,
     "start_time": "2021-10-07T11:38:37.232359",
     "status": "completed"
    },
    "tags": []
   },
   "outputs": [
    {
     "data": {
      "text/plain": [
       "Movie      6131\n",
       "TV Show    2676\n",
       "Name: type, dtype: int64"
      ]
     },
     "execution_count": 10,
     "metadata": {},
     "output_type": "execute_result"
    }
   ],
   "source": [
    "df['type'].value_counts()"
   ]
  },
  {
   "cell_type": "code",
   "execution_count": 11,
   "id": "8aef7a89",
   "metadata": {
    "execution": {
     "iopub.execute_input": "2021-10-07T11:38:37.362804Z",
     "iopub.status.busy": "2021-10-07T11:38:37.362259Z",
     "iopub.status.idle": "2021-10-07T11:38:37.369353Z",
     "shell.execute_reply": "2021-10-07T11:38:37.368894Z",
     "shell.execute_reply.started": "2021-10-07T11:30:59.028531Z"
    },
    "papermill": {
     "duration": 0.048724,
     "end_time": "2021-10-07T11:38:37.369489",
     "exception": false,
     "start_time": "2021-10-07T11:38:37.320765",
     "status": "completed"
    },
    "tags": []
   },
   "outputs": [
    {
     "data": {
      "text/plain": [
       "4528"
      ]
     },
     "execution_count": 11,
     "metadata": {},
     "output_type": "execute_result"
    }
   ],
   "source": [
    "df['director'].nunique()"
   ]
  },
  {
   "cell_type": "code",
   "execution_count": 12,
   "id": "5b20e36f",
   "metadata": {
    "execution": {
     "iopub.execute_input": "2021-10-07T11:38:37.465661Z",
     "iopub.status.busy": "2021-10-07T11:38:37.464736Z",
     "iopub.status.idle": "2021-10-07T11:38:37.471579Z",
     "shell.execute_reply": "2021-10-07T11:38:37.471118Z",
     "shell.execute_reply.started": "2021-10-07T11:30:59.044229Z"
    },
    "papermill": {
     "duration": 0.058182,
     "end_time": "2021-10-07T11:38:37.471712",
     "exception": false,
     "start_time": "2021-10-07T11:38:37.413530",
     "status": "completed"
    },
    "tags": []
   },
   "outputs": [
    {
     "data": {
      "text/plain": [
       "Rajiv Chilaka                     19\n",
       "Raúl Campos, Jan Suter            18\n",
       "Marcus Raboy                      16\n",
       "Suhas Kadav                       16\n",
       "Jay Karas                         14\n",
       "                                  ..\n",
       "Raymie Muzquiz, Stu Livingston     1\n",
       "Joe Menendez                       1\n",
       "Eric Bross                         1\n",
       "Will Eisenberg                     1\n",
       "Mozez Singh                        1\n",
       "Name: director, Length: 4528, dtype: int64"
      ]
     },
     "execution_count": 12,
     "metadata": {},
     "output_type": "execute_result"
    }
   ],
   "source": [
    "df['director'].value_counts()"
   ]
  },
  {
   "cell_type": "code",
   "execution_count": 13,
   "id": "8147a338",
   "metadata": {
    "execution": {
     "iopub.execute_input": "2021-10-07T11:38:37.553035Z",
     "iopub.status.busy": "2021-10-07T11:38:37.552164Z",
     "iopub.status.idle": "2021-10-07T11:38:37.559016Z",
     "shell.execute_reply": "2021-10-07T11:38:37.558460Z",
     "shell.execute_reply.started": "2021-10-07T11:30:59.066261Z"
    },
    "papermill": {
     "duration": 0.048124,
     "end_time": "2021-10-07T11:38:37.559144",
     "exception": false,
     "start_time": "2021-10-07T11:38:37.511020",
     "status": "completed"
    },
    "tags": []
   },
   "outputs": [
    {
     "data": {
      "text/plain": [
       "748"
      ]
     },
     "execution_count": 13,
     "metadata": {},
     "output_type": "execute_result"
    }
   ],
   "source": [
    "df['country'].nunique()"
   ]
  },
  {
   "cell_type": "code",
   "execution_count": 14,
   "id": "231e2054",
   "metadata": {
    "execution": {
     "iopub.execute_input": "2021-10-07T11:38:37.647684Z",
     "iopub.status.busy": "2021-10-07T11:38:37.646913Z",
     "iopub.status.idle": "2021-10-07T11:38:37.649656Z",
     "shell.execute_reply": "2021-10-07T11:38:37.650029Z",
     "shell.execute_reply.started": "2021-10-07T11:30:59.080778Z"
    },
    "papermill": {
     "duration": 0.051516,
     "end_time": "2021-10-07T11:38:37.650188",
     "exception": false,
     "start_time": "2021-10-07T11:38:37.598672",
     "status": "completed"
    },
    "tags": []
   },
   "outputs": [
    {
     "data": {
      "text/plain": [
       "United States                             2818\n",
       "India                                      972\n",
       "United Kingdom                             419\n",
       "Japan                                      245\n",
       "South Korea                                199\n",
       "                                          ... \n",
       "Romania, Bulgaria, Hungary                   1\n",
       "Uruguay, Guatemala                           1\n",
       "France, Senegal, Belgium                     1\n",
       "Mexico, United States, Spain, Colombia       1\n",
       "United Arab Emirates, Jordan                 1\n",
       "Name: country, Length: 748, dtype: int64"
      ]
     },
     "execution_count": 14,
     "metadata": {},
     "output_type": "execute_result"
    }
   ],
   "source": [
    "df['country'].value_counts()"
   ]
  },
  {
   "cell_type": "code",
   "execution_count": 15,
   "id": "49f4ea38",
   "metadata": {
    "execution": {
     "iopub.execute_input": "2021-10-07T11:38:37.734731Z",
     "iopub.status.busy": "2021-10-07T11:38:37.734096Z",
     "iopub.status.idle": "2021-10-07T11:38:37.739051Z",
     "shell.execute_reply": "2021-10-07T11:38:37.738359Z",
     "shell.execute_reply.started": "2021-10-07T11:30:59.097273Z"
    },
    "papermill": {
     "duration": 0.049361,
     "end_time": "2021-10-07T11:38:37.739182",
     "exception": false,
     "start_time": "2021-10-07T11:38:37.689821",
     "status": "completed"
    },
    "tags": []
   },
   "outputs": [],
   "source": [
    "values = df['country'].value_counts()[:10].tolist()\n",
    "labels = df['country'].value_counts()[:10].index.tolist()"
   ]
  },
  {
   "cell_type": "code",
   "execution_count": 16,
   "id": "cfba3896",
   "metadata": {
    "execution": {
     "iopub.execute_input": "2021-10-07T11:38:37.822160Z",
     "iopub.status.busy": "2021-10-07T11:38:37.820582Z",
     "iopub.status.idle": "2021-10-07T11:38:37.825349Z",
     "shell.execute_reply": "2021-10-07T11:38:37.825762Z",
     "shell.execute_reply.started": "2021-10-07T11:30:59.112408Z"
    },
    "papermill": {
     "duration": 0.04697,
     "end_time": "2021-10-07T11:38:37.825919",
     "exception": false,
     "start_time": "2021-10-07T11:38:37.778949",
     "status": "completed"
    },
    "tags": []
   },
   "outputs": [
    {
     "name": "stdout",
     "output_type": "stream",
     "text": [
      "['United States', 'India', 'United Kingdom', 'Japan', 'South Korea', 'Canada', 'Spain', 'France', 'Mexico', 'Egypt']\n"
     ]
    }
   ],
   "source": [
    "print(labels)"
   ]
  },
  {
   "cell_type": "code",
   "execution_count": 17,
   "id": "e561922b",
   "metadata": {
    "execution": {
     "iopub.execute_input": "2021-10-07T11:38:37.909022Z",
     "iopub.status.busy": "2021-10-07T11:38:37.907932Z",
     "iopub.status.idle": "2021-10-07T11:38:38.083013Z",
     "shell.execute_reply": "2021-10-07T11:38:38.083427Z",
     "shell.execute_reply.started": "2021-10-07T11:30:59.124877Z"
    },
    "papermill": {
     "duration": 0.21806,
     "end_time": "2021-10-07T11:38:38.083598",
     "exception": false,
     "start_time": "2021-10-07T11:38:37.865538",
     "status": "completed"
    },
    "tags": []
   },
   "outputs": [
    {
     "data": {
      "text/plain": [
       "Text(0.5, 1.0, 'Top 10 countries with movies and tv shows')"
      ]
     },
     "execution_count": 17,
     "metadata": {},
     "output_type": "execute_result"
    },
    {
     "data": {
      "image/png": "[encoded data removed]",
      "text/plain": [
       "<Figure size 504x504 with 1 Axes>"
      ]
     },
     "metadata": {},
     "output_type": "display_data"
    }
   ],
   "source": [
    "plt.figure(figsize=(7, 7))\n",
    "plt.pie(values,labels=labels,autopct='%1.0f%%')\n",
    "plt.title('Top 10 countries with movies and tv shows')"
   ]
  },
  {
   "cell_type": "code",
   "execution_count": 18,
   "id": "f8c1e6cf",
   "metadata": {
    "execution": {
     "iopub.execute_input": "2021-10-07T11:38:38.169806Z",
     "iopub.status.busy": "2021-10-07T11:38:38.168893Z",
     "iopub.status.idle": "2021-10-07T11:38:38.373019Z",
     "shell.execute_reply": "2021-10-07T11:38:38.373485Z",
     "shell.execute_reply.started": "2021-10-07T11:30:59.325151Z"
    },
    "papermill": {
     "duration": 0.248236,
     "end_time": "2021-10-07T11:38:38.373651",
     "exception": false,
     "start_time": "2021-10-07T11:38:38.125415",
     "status": "completed"
    },
    "tags": []
   },
   "outputs": [
    {
     "data": {
      "text/plain": [
       "Text(0.5, 1.0, 'Top 10 countries with movies')"
      ]
     },
     "execution_count": 18,
     "metadata": {},
     "output_type": "execute_result"
    },
    {
     "data": {
      "image/png": "[encoded data removed]",
      "text/plain": [
       "<Figure size 504x504 with 1 Axes>"
      ]
     },
     "metadata": {},
     "output_type": "display_data"
    }
   ],
   "source": [
    "m = df[df['type']=='Movie']\n",
    "m_values = m['country'].value_counts()[:10].tolist()\n",
    "m_labels = m['country'].value_counts()[:10].index.tolist()\n",
    "\n",
    "plt.figure(figsize=(7, 7))\n",
    "plt.pie(m_values,labels=m_labels,autopct='%1.0f%%')\n",
    "plt.title('Top 10 countries with movies')"
   ]
  },
  {
   "cell_type": "code",
   "execution_count": 19,
   "id": "4a2210f4",
   "metadata": {
    "execution": {
     "iopub.execute_input": "2021-10-07T11:38:38.470056Z",
     "iopub.status.busy": "2021-10-07T11:38:38.469156Z",
     "iopub.status.idle": "2021-10-07T11:38:38.705431Z",
     "shell.execute_reply": "2021-10-07T11:38:38.705835Z",
     "shell.execute_reply.started": "2021-10-07T11:30:59.544160Z"
    },
    "papermill": {
     "duration": 0.28706,
     "end_time": "2021-10-07T11:38:38.706004",
     "exception": false,
     "start_time": "2021-10-07T11:38:38.418944",
     "status": "completed"
    },
    "tags": []
   },
   "outputs": [
    {
     "name": "stderr",
     "output_type": "stream",
     "text": [
      "/opt/conda/lib/python3.7/site-packages/seaborn/_decorators.py:43: FutureWarning: Pass the following variables as keyword args: x, y. From version 0.12, the only valid positional argument will be `data`, and passing other arguments without an explicit keyword will result in an error or misinterpretation.\n",
      "  FutureWarning\n"
     ]
    },
    {
     "data": {
      "image/png": "[encoded data removed]",
      "text/plain": [
       "<Figure size 432x432 with 1 Axes>"
      ]
     },
     "metadata": {
      "needs_background": "light"
     },
     "output_type": "display_data"
    }
   ],
   "source": [
    "plt.figure(figsize=(6,6))\n",
    "sns.barplot(m_labels,m_values)\n",
    "plt.xticks(rotation=45)\n",
    "plt.title('Top 10 countries with movies')\n",
    "plt.show()"
   ]
  },
  {
   "cell_type": "code",
   "execution_count": 20,
   "id": "40c4972f",
   "metadata": {
    "execution": {
     "iopub.execute_input": "2021-10-07T11:38:38.796519Z",
     "iopub.status.busy": "2021-10-07T11:38:38.795973Z",
     "iopub.status.idle": "2021-10-07T11:38:38.803142Z",
     "shell.execute_reply": "2021-10-07T11:38:38.802672Z",
     "shell.execute_reply.started": "2021-10-07T11:30:59.817332Z"
    },
    "papermill": {
     "duration": 0.053603,
     "end_time": "2021-10-07T11:38:38.803288",
     "exception": false,
     "start_time": "2021-10-07T11:38:38.749685",
     "status": "completed"
    },
    "tags": []
   },
   "outputs": [
    {
     "data": {
      "text/plain": [
       "TV-MA     3207\n",
       "TV-14     2160\n",
       "TV-PG      863\n",
       "R          799\n",
       "PG-13      490\n",
       "          ... \n",
       "NC-17        3\n",
       "UR           3\n",
       "74 min       1\n",
       "84 min       1\n",
       "66 min       1\n",
       "Name: rating, Length: 17, dtype: int64"
      ]
     },
     "execution_count": 20,
     "metadata": {},
     "output_type": "execute_result"
    }
   ],
   "source": [
    "df['rating'].value_counts()"
   ]
  },
  {
   "cell_type": "code",
   "execution_count": 21,
   "id": "46140c78",
   "metadata": {
    "execution": {
     "iopub.execute_input": "2021-10-07T11:38:38.899708Z",
     "iopub.status.busy": "2021-10-07T11:38:38.894408Z",
     "iopub.status.idle": "2021-10-07T11:38:38.902444Z",
     "shell.execute_reply": "2021-10-07T11:38:38.901990Z",
     "shell.execute_reply.started": "2021-10-07T11:30:59.830834Z"
    },
    "papermill": {
     "duration": 0.055043,
     "end_time": "2021-10-07T11:38:38.902615",
     "exception": false,
     "start_time": "2021-10-07T11:38:38.847572",
     "status": "completed"
    },
    "tags": []
   },
   "outputs": [],
   "source": [
    "df['date_added'] = df['date_added'].fillna(df['date_added'].mode()[0])"
   ]
  },
  {
   "cell_type": "code",
   "execution_count": 22,
   "id": "e65cfe5e",
   "metadata": {
    "execution": {
     "iopub.execute_input": "2021-10-07T11:38:39.012433Z",
     "iopub.status.busy": "2021-10-07T11:38:39.005907Z",
     "iopub.status.idle": "2021-10-07T11:38:39.025149Z",
     "shell.execute_reply": "2021-10-07T11:38:39.024462Z",
     "shell.execute_reply.started": "2021-10-07T11:30:59.848751Z"
    },
    "papermill": {
     "duration": 0.077003,
     "end_time": "2021-10-07T11:38:39.025311",
     "exception": false,
     "start_time": "2021-10-07T11:38:38.948308",
     "status": "completed"
    },
    "tags": []
   },
   "outputs": [
    {
     "data": {
      "text/html": [
       "<div>\n",
       "<style scoped>\n",
       "    .dataframe tbody tr th:only-of-type {\n",
       "        vertical-align: middle;\n",
       "    }\n",
       "\n",
       "    .dataframe tbody tr th {\n",
       "        vertical-align: top;\n",
       "    }\n",
       "\n",
       "    .dataframe thead th {\n",
       "        text-align: right;\n",
       "    }\n",
       "</style>\n",
       "<table border=\"1\" class=\"dataframe\">\n",
       "  <thead>\n",
       "    <tr style=\"text-align: right;\">\n",
       "      <th></th>\n",
       "      <th>date_added</th>\n",
       "      <th>MD</th>\n",
       "      <th>Year</th>\n",
       "    </tr>\n",
       "  </thead>\n",
       "  <tbody>\n",
       "    <tr>\n",
       "      <th>0</th>\n",
       "      <td>September 25, 2021</td>\n",
       "      <td>September 25</td>\n",
       "      <td>2021</td>\n",
       "    </tr>\n",
       "    <tr>\n",
       "      <th>1</th>\n",
       "      <td>September 24, 2021</td>\n",
       "      <td>September 24</td>\n",
       "      <td>2021</td>\n",
       "    </tr>\n",
       "    <tr>\n",
       "      <th>2</th>\n",
       "      <td>September 24, 2021</td>\n",
       "      <td>September 24</td>\n",
       "      <td>2021</td>\n",
       "    </tr>\n",
       "    <tr>\n",
       "      <th>3</th>\n",
       "      <td>September 24, 2021</td>\n",
       "      <td>September 24</td>\n",
       "      <td>2021</td>\n",
       "    </tr>\n",
       "    <tr>\n",
       "      <th>4</th>\n",
       "      <td>September 24, 2021</td>\n",
       "      <td>September 24</td>\n",
       "      <td>2021</td>\n",
       "    </tr>\n",
       "  </tbody>\n",
       "</table>\n",
       "</div>"
      ],
      "text/plain": [
       "           date_added            MD  Year\n",
       "0  September 25, 2021  September 25  2021\n",
       "1  September 24, 2021  September 24  2021\n",
       "2  September 24, 2021  September 24  2021\n",
       "3  September 24, 2021  September 24  2021\n",
       "4  September 24, 2021  September 24  2021"
      ]
     },
     "execution_count": 22,
     "metadata": {},
     "output_type": "execute_result"
    }
   ],
   "source": [
    "#new dataframe with year in new column\n",
    "date = pd.DataFrame(df['date_added'])\n",
    "added = date['date_added'].str.split(', ',expand = True)\n",
    "date['MD'] = added[0]\n",
    "date['Year'] = added[1]\n",
    "date.head()"
   ]
  },
  {
   "cell_type": "code",
   "execution_count": 23,
   "id": "870b69fb",
   "metadata": {
    "execution": {
     "iopub.execute_input": "2021-10-07T11:38:39.119332Z",
     "iopub.status.busy": "2021-10-07T11:38:39.117386Z",
     "iopub.status.idle": "2021-10-07T11:38:39.121157Z",
     "shell.execute_reply": "2021-10-07T11:38:39.121572Z",
     "shell.execute_reply.started": "2021-10-07T11:30:59.890615Z"
    },
    "papermill": {
     "duration": 0.051411,
     "end_time": "2021-10-07T11:38:39.121732",
     "exception": false,
     "start_time": "2021-10-07T11:38:39.070321",
     "status": "completed"
    },
    "tags": []
   },
   "outputs": [],
   "source": [
    "def get_month(row):\n",
    "    mon = row['MD'].split(' ')\n",
    "    if len(mon) == 2:\n",
    "        return mon[0]\n",
    "    else:\n",
    "        return mon[1]"
   ]
  },
  {
   "cell_type": "code",
   "execution_count": 24,
   "id": "aa6bb547",
   "metadata": {
    "execution": {
     "iopub.execute_input": "2021-10-07T11:38:39.221827Z",
     "iopub.status.busy": "2021-10-07T11:38:39.220934Z",
     "iopub.status.idle": "2021-10-07T11:38:39.225350Z",
     "shell.execute_reply": "2021-10-07T11:38:39.225888Z",
     "shell.execute_reply.started": "2021-10-07T11:30:59.898940Z"
    },
    "papermill": {
     "duration": 0.055001,
     "end_time": "2021-10-07T11:38:39.226049",
     "exception": false,
     "start_time": "2021-10-07T11:38:39.171048",
     "status": "completed"
    },
    "tags": []
   },
   "outputs": [],
   "source": [
    "def get_day(row):\n",
    "    mon = row['MD'].split(' ')\n",
    "    if len(mon) == 2:\n",
    "        return mon[1]\n",
    "    else:\n",
    "        return mon[2]"
   ]
  },
  {
   "cell_type": "code",
   "execution_count": 25,
   "id": "b73bf2a8",
   "metadata": {
    "execution": {
     "iopub.execute_input": "2021-10-07T11:38:39.345009Z",
     "iopub.status.busy": "2021-10-07T11:38:39.339836Z",
     "iopub.status.idle": "2021-10-07T11:38:39.490220Z",
     "shell.execute_reply": "2021-10-07T11:38:39.490826Z",
     "shell.execute_reply.started": "2021-10-07T11:30:59.910585Z"
    },
    "papermill": {
     "duration": 0.218899,
     "end_time": "2021-10-07T11:38:39.491007",
     "exception": false,
     "start_time": "2021-10-07T11:38:39.272108",
     "status": "completed"
    },
    "tags": []
   },
   "outputs": [],
   "source": [
    "# some of the Month-day combo was having ' November 1' extra space. So created a function to split the month and day from it and apply it on each row\n",
    "date['Month'] = date.apply(get_month,axis=1)\n",
    "date['Day'] = date.apply(get_day,axis=1)"
   ]
  },
  {
   "cell_type": "code",
   "execution_count": 26,
   "id": "75bcc3d5",
   "metadata": {
    "execution": {
     "iopub.execute_input": "2021-10-07T11:38:39.592102Z",
     "iopub.status.busy": "2021-10-07T11:38:39.591505Z",
     "iopub.status.idle": "2021-10-07T11:38:39.594160Z",
     "shell.execute_reply": "2021-10-07T11:38:39.593607Z",
     "shell.execute_reply.started": "2021-10-07T11:31:00.168625Z"
    },
    "papermill": {
     "duration": 0.055636,
     "end_time": "2021-10-07T11:38:39.594306",
     "exception": false,
     "start_time": "2021-10-07T11:38:39.538670",
     "status": "completed"
    },
    "tags": []
   },
   "outputs": [],
   "source": [
    "date = date.drop(['date_added','MD'], axis=1, errors='ignore')"
   ]
  },
  {
   "cell_type": "code",
   "execution_count": 27,
   "id": "ca7675d9",
   "metadata": {
    "execution": {
     "iopub.execute_input": "2021-10-07T11:38:39.687056Z",
     "iopub.status.busy": "2021-10-07T11:38:39.686169Z",
     "iopub.status.idle": "2021-10-07T11:38:39.695179Z",
     "shell.execute_reply": "2021-10-07T11:38:39.695638Z",
     "shell.execute_reply.started": "2021-10-07T11:31:00.180803Z"
    },
    "papermill": {
     "duration": 0.057274,
     "end_time": "2021-10-07T11:38:39.695795",
     "exception": false,
     "start_time": "2021-10-07T11:38:39.638521",
     "status": "completed"
    },
    "tags": []
   },
   "outputs": [
    {
     "data": {
      "text/html": [
       "<div>\n",
       "<style scoped>\n",
       "    .dataframe tbody tr th:only-of-type {\n",
       "        vertical-align: middle;\n",
       "    }\n",
       "\n",
       "    .dataframe tbody tr th {\n",
       "        vertical-align: top;\n",
       "    }\n",
       "\n",
       "    .dataframe thead th {\n",
       "        text-align: right;\n",
       "    }\n",
       "</style>\n",
       "<table border=\"1\" class=\"dataframe\">\n",
       "  <thead>\n",
       "    <tr style=\"text-align: right;\">\n",
       "      <th></th>\n",
       "      <th>Year</th>\n",
       "      <th>Month</th>\n",
       "      <th>Day</th>\n",
       "    </tr>\n",
       "  </thead>\n",
       "  <tbody>\n",
       "    <tr>\n",
       "      <th>0</th>\n",
       "      <td>2021</td>\n",
       "      <td>September</td>\n",
       "      <td>25</td>\n",
       "    </tr>\n",
       "    <tr>\n",
       "      <th>1</th>\n",
       "      <td>2021</td>\n",
       "      <td>September</td>\n",
       "      <td>24</td>\n",
       "    </tr>\n",
       "    <tr>\n",
       "      <th>2</th>\n",
       "      <td>2021</td>\n",
       "      <td>September</td>\n",
       "      <td>24</td>\n",
       "    </tr>\n",
       "    <tr>\n",
       "      <th>3</th>\n",
       "      <td>2021</td>\n",
       "      <td>September</td>\n",
       "      <td>24</td>\n",
       "    </tr>\n",
       "    <tr>\n",
       "      <th>4</th>\n",
       "      <td>2021</td>\n",
       "      <td>September</td>\n",
       "      <td>24</td>\n",
       "    </tr>\n",
       "  </tbody>\n",
       "</table>\n",
       "</div>"
      ],
      "text/plain": [
       "   Year      Month Day\n",
       "0  2021  September  25\n",
       "1  2021  September  24\n",
       "2  2021  September  24\n",
       "3  2021  September  24\n",
       "4  2021  September  24"
      ]
     },
     "execution_count": 27,
     "metadata": {},
     "output_type": "execute_result"
    }
   ],
   "source": [
    "date.head()"
   ]
  },
  {
   "cell_type": "code",
   "execution_count": 28,
   "id": "c0ceb6b1",
   "metadata": {
    "execution": {
     "iopub.execute_input": "2021-10-07T11:38:39.791901Z",
     "iopub.status.busy": "2021-10-07T11:38:39.791008Z",
     "iopub.status.idle": "2021-10-07T11:38:39.810989Z",
     "shell.execute_reply": "2021-10-07T11:38:39.811422Z",
     "shell.execute_reply.started": "2021-10-07T11:31:00.197512Z"
    },
    "papermill": {
     "duration": 0.0695,
     "end_time": "2021-10-07T11:38:39.811592",
     "exception": false,
     "start_time": "2021-10-07T11:38:39.742092",
     "status": "completed"
    },
    "tags": []
   },
   "outputs": [
    {
     "data": {
      "text/html": [
       "<div>\n",
       "<style scoped>\n",
       "    .dataframe tbody tr th:only-of-type {\n",
       "        vertical-align: middle;\n",
       "    }\n",
       "\n",
       "    .dataframe tbody tr th {\n",
       "        vertical-align: top;\n",
       "    }\n",
       "\n",
       "    .dataframe thead th {\n",
       "        text-align: right;\n",
       "    }\n",
       "</style>\n",
       "<table border=\"1\" class=\"dataframe\">\n",
       "  <thead>\n",
       "    <tr style=\"text-align: right;\">\n",
       "      <th></th>\n",
       "      <th>show_id</th>\n",
       "      <th>type</th>\n",
       "      <th>title</th>\n",
       "      <th>director</th>\n",
       "      <th>cast</th>\n",
       "      <th>country</th>\n",
       "      <th>date_added</th>\n",
       "      <th>release_year</th>\n",
       "      <th>rating</th>\n",
       "      <th>duration</th>\n",
       "      <th>listed_in</th>\n",
       "      <th>description</th>\n",
       "      <th>Year</th>\n",
       "      <th>Month</th>\n",
       "      <th>Day</th>\n",
       "    </tr>\n",
       "  </thead>\n",
       "  <tbody>\n",
       "    <tr>\n",
       "      <th>0</th>\n",
       "      <td>s1</td>\n",
       "      <td>Movie</td>\n",
       "      <td>Dick Johnson Is Dead</td>\n",
       "      <td>Kirsten Johnson</td>\n",
       "      <td>NaN</td>\n",
       "      <td>United States</td>\n",
       "      <td>September 25, 2021</td>\n",
       "      <td>2020</td>\n",
       "      <td>PG-13</td>\n",
       "      <td>90 min</td>\n",
       "      <td>Documentaries</td>\n",
       "      <td>As her father nears the end of his life, filmm...</td>\n",
       "      <td>2021</td>\n",
       "      <td>September</td>\n",
       "      <td>25</td>\n",
       "    </tr>\n",
       "    <tr>\n",
       "      <th>1</th>\n",
       "      <td>s2</td>\n",
       "      <td>TV Show</td>\n",
       "      <td>Blood &amp; Water</td>\n",
       "      <td>NaN</td>\n",
       "      <td>Ama Qamata, Khosi Ngema, Gail Mabalane, Thaban...</td>\n",
       "      <td>South Africa</td>\n",
       "      <td>September 24, 2021</td>\n",
       "      <td>2021</td>\n",
       "      <td>TV-MA</td>\n",
       "      <td>2 Seasons</td>\n",
       "      <td>International TV Shows, TV Dramas, TV Mysteries</td>\n",
       "      <td>After crossing paths at a party, a Cape Town t...</td>\n",
       "      <td>2021</td>\n",
       "      <td>September</td>\n",
       "      <td>24</td>\n",
       "    </tr>\n",
       "    <tr>\n",
       "      <th>2</th>\n",
       "      <td>s3</td>\n",
       "      <td>TV Show</td>\n",
       "      <td>Ganglands</td>\n",
       "      <td>Julien Leclercq</td>\n",
       "      <td>Sami Bouajila, Tracy Gotoas, Samuel Jouy, Nabi...</td>\n",
       "      <td>NaN</td>\n",
       "      <td>September 24, 2021</td>\n",
       "      <td>2021</td>\n",
       "      <td>TV-MA</td>\n",
       "      <td>1 Season</td>\n",
       "      <td>Crime TV Shows, International TV Shows, TV Act...</td>\n",
       "      <td>To protect his family from a powerful drug lor...</td>\n",
       "      <td>2021</td>\n",
       "      <td>September</td>\n",
       "      <td>24</td>\n",
       "    </tr>\n",
       "    <tr>\n",
       "      <th>3</th>\n",
       "      <td>s4</td>\n",
       "      <td>TV Show</td>\n",
       "      <td>Jailbirds New Orleans</td>\n",
       "      <td>NaN</td>\n",
       "      <td>NaN</td>\n",
       "      <td>NaN</td>\n",
       "      <td>September 24, 2021</td>\n",
       "      <td>2021</td>\n",
       "      <td>TV-MA</td>\n",
       "      <td>1 Season</td>\n",
       "      <td>Docuseries, Reality TV</td>\n",
       "      <td>Feuds, flirtations and toilet talk go down amo...</td>\n",
       "      <td>2021</td>\n",
       "      <td>September</td>\n",
       "      <td>24</td>\n",
       "    </tr>\n",
       "    <tr>\n",
       "      <th>4</th>\n",
       "      <td>s5</td>\n",
       "      <td>TV Show</td>\n",
       "      <td>Kota Factory</td>\n",
       "      <td>NaN</td>\n",
       "      <td>Mayur More, Jitendra Kumar, Ranjan Raj, Alam K...</td>\n",
       "      <td>India</td>\n",
       "      <td>September 24, 2021</td>\n",
       "      <td>2021</td>\n",
       "      <td>TV-MA</td>\n",
       "      <td>2 Seasons</td>\n",
       "      <td>International TV Shows, Romantic TV Shows, TV ...</td>\n",
       "      <td>In a city of coaching centers known to train I...</td>\n",
       "      <td>2021</td>\n",
       "      <td>September</td>\n",
       "      <td>24</td>\n",
       "    </tr>\n",
       "  </tbody>\n",
       "</table>\n",
       "</div>"
      ],
      "text/plain": [
       "  show_id     type                  title         director  \\\n",
       "0      s1    Movie   Dick Johnson Is Dead  Kirsten Johnson   \n",
       "1      s2  TV Show          Blood & Water              NaN   \n",
       "2      s3  TV Show              Ganglands  Julien Leclercq   \n",
       "3      s4  TV Show  Jailbirds New Orleans              NaN   \n",
       "4      s5  TV Show           Kota Factory              NaN   \n",
       "\n",
       "                                                cast        country  \\\n",
       "0                                                NaN  United States   \n",
       "1  Ama Qamata, Khosi Ngema, Gail Mabalane, Thaban...   South Africa   \n",
       "2  Sami Bouajila, Tracy Gotoas, Samuel Jouy, Nabi...            NaN   \n",
       "3                                                NaN            NaN   \n",
       "4  Mayur More, Jitendra Kumar, Ranjan Raj, Alam K...          India   \n",
       "\n",
       "           date_added  release_year rating   duration  \\\n",
       "0  September 25, 2021          2020  PG-13     90 min   \n",
       "1  September 24, 2021          2021  TV-MA  2 Seasons   \n",
       "2  September 24, 2021          2021  TV-MA   1 Season   \n",
       "3  September 24, 2021          2021  TV-MA   1 Season   \n",
       "4  September 24, 2021          2021  TV-MA  2 Seasons   \n",
       "\n",
       "                                           listed_in  \\\n",
       "0                                      Documentaries   \n",
       "1    International TV Shows, TV Dramas, TV Mysteries   \n",
       "2  Crime TV Shows, International TV Shows, TV Act...   \n",
       "3                             Docuseries, Reality TV   \n",
       "4  International TV Shows, Romantic TV Shows, TV ...   \n",
       "\n",
       "                                         description  Year      Month Day  \n",
       "0  As her father nears the end of his life, filmm...  2021  September  25  \n",
       "1  After crossing paths at a party, a Cape Town t...  2021  September  24  \n",
       "2  To protect his family from a powerful drug lor...  2021  September  24  \n",
       "3  Feuds, flirtations and toilet talk go down amo...  2021  September  24  \n",
       "4  In a city of coaching centers known to train I...  2021  September  24  "
      ]
     },
     "execution_count": 28,
     "metadata": {},
     "output_type": "execute_result"
    }
   ],
   "source": [
    "df = pd.concat([df, date],axis=1)\n",
    "df.head()"
   ]
  },
  {
   "cell_type": "code",
   "execution_count": 29,
   "id": "a4ac4e37",
   "metadata": {
    "execution": {
     "iopub.execute_input": "2021-10-07T11:38:39.912677Z",
     "iopub.status.busy": "2021-10-07T11:38:39.911690Z",
     "iopub.status.idle": "2021-10-07T11:38:40.215477Z",
     "shell.execute_reply": "2021-10-07T11:38:40.215941Z",
     "shell.execute_reply.started": "2021-10-07T11:31:00.226503Z"
    },
    "papermill": {
     "duration": 0.357782,
     "end_time": "2021-10-07T11:38:40.216105",
     "exception": false,
     "start_time": "2021-10-07T11:38:39.858323",
     "status": "completed"
    },
    "tags": []
   },
   "outputs": [
    {
     "name": "stderr",
     "output_type": "stream",
     "text": [
      "/opt/conda/lib/python3.7/site-packages/seaborn/_decorators.py:43: FutureWarning: Pass the following variable as a keyword arg: x. From version 0.12, the only valid positional argument will be `data`, and passing other arguments without an explicit keyword will result in an error or misinterpretation.\n",
      "  FutureWarning\n"
     ]
    },
    {
     "data": {
      "image/png": "[encoded data removed]",
      "text/plain": [
       "<Figure size 432x432 with 1 Axes>"
      ]
     },
     "metadata": {
      "needs_background": "light"
     },
     "output_type": "display_data"
    }
   ],
   "source": [
    "plt.figure(figsize=(6,6))\n",
    "sns.countplot(df['Year'],order=['2010','2011','2012','2013','2014','2015','2016','2017','2018','2019','2020','2021'])\n",
    "plt.xticks(rotation=45)\n",
    "plt.title('Content added by year')\n",
    "plt.show()"
   ]
  },
  {
   "cell_type": "code",
   "execution_count": 30,
   "id": "5ac2a1eb",
   "metadata": {
    "execution": {
     "iopub.execute_input": "2021-10-07T11:38:40.313395Z",
     "iopub.status.busy": "2021-10-07T11:38:40.312821Z",
     "iopub.status.idle": "2021-10-07T11:38:40.321028Z",
     "shell.execute_reply": "2021-10-07T11:38:40.320530Z",
     "shell.execute_reply.started": "2021-10-07T11:31:00.658160Z"
    },
    "papermill": {
     "duration": 0.058624,
     "end_time": "2021-10-07T11:38:40.321168",
     "exception": false,
     "start_time": "2021-10-07T11:38:40.262544",
     "status": "completed"
    },
    "tags": []
   },
   "outputs": [],
   "source": [
    "d = {'January':1, 'February':2, 'March':3, 'April':4, 'May':5, 'June':6, 'July':7, 'August':8, 'September':9, 'October':10, 'November':11, 'December':12}\n",
    "df['Month'] = df['Month'].map(d).astype('Int8')"
   ]
  },
  {
   "cell_type": "code",
   "execution_count": 31,
   "id": "6ccb063b",
   "metadata": {
    "execution": {
     "iopub.execute_input": "2021-10-07T11:38:40.424011Z",
     "iopub.status.busy": "2021-10-07T11:38:40.423442Z",
     "iopub.status.idle": "2021-10-07T11:38:40.577838Z",
     "shell.execute_reply": "2021-10-07T11:38:40.577291Z",
     "shell.execute_reply.started": "2021-10-07T11:31:00.674895Z"
    },
    "papermill": {
     "duration": 0.207638,
     "end_time": "2021-10-07T11:38:40.577975",
     "exception": false,
     "start_time": "2021-10-07T11:38:40.370337",
     "status": "completed"
    },
    "tags": []
   },
   "outputs": [],
   "source": [
    "import datetime\n",
    "\n",
    "def get_weekdays(x):\n",
    "    t = datetime.datetime(int(x['Year']), int(x['Month']), int(x['Day']))\n",
    "    return t.weekday()\n",
    "\n",
    "df['WeekDay'] = df.apply(get_weekdays,axis=1)"
   ]
  },
  {
   "cell_type": "code",
   "execution_count": 32,
   "id": "45739998",
   "metadata": {
    "execution": {
     "iopub.execute_input": "2021-10-07T11:38:40.681132Z",
     "iopub.status.busy": "2021-10-07T11:38:40.676644Z",
     "iopub.status.idle": "2021-10-07T11:38:40.684700Z",
     "shell.execute_reply": "2021-10-07T11:38:40.684212Z",
     "shell.execute_reply.started": "2021-10-07T11:31:00.958733Z"
    },
    "papermill": {
     "duration": 0.05899,
     "end_time": "2021-10-07T11:38:40.684831",
     "exception": false,
     "start_time": "2021-10-07T11:38:40.625841",
     "status": "completed"
    },
    "tags": []
   },
   "outputs": [
    {
     "data": {
      "text/plain": [
       "4    2498\n",
       "3    1396\n",
       "2    1298\n",
       "1    1197\n",
       "0     851\n",
       "5     816\n",
       "6     751\n",
       "Name: WeekDay, dtype: int64"
      ]
     },
     "execution_count": 32,
     "metadata": {},
     "output_type": "execute_result"
    }
   ],
   "source": [
    "df['WeekDay'].value_counts()"
   ]
  },
  {
   "cell_type": "code",
   "execution_count": 33,
   "id": "d41e1804",
   "metadata": {
    "execution": {
     "iopub.execute_input": "2021-10-07T11:38:40.784417Z",
     "iopub.status.busy": "2021-10-07T11:38:40.783531Z",
     "iopub.status.idle": "2021-10-07T11:38:40.797918Z",
     "shell.execute_reply": "2021-10-07T11:38:40.797371Z",
     "shell.execute_reply.started": "2021-10-07T11:31:00.971697Z"
    },
    "papermill": {
     "duration": 0.066091,
     "end_time": "2021-10-07T11:38:40.798047",
     "exception": false,
     "start_time": "2021-10-07T11:38:40.731956",
     "status": "completed"
    },
    "tags": []
   },
   "outputs": [
    {
     "data": {
      "text/plain": [
       "show_id           0\n",
       "type              0\n",
       "title             0\n",
       "director       2634\n",
       "cast            825\n",
       "               ... \n",
       "description       0\n",
       "Year              0\n",
       "Month             0\n",
       "Day               0\n",
       "WeekDay           0\n",
       "Length: 16, dtype: int64"
      ]
     },
     "execution_count": 33,
     "metadata": {},
     "output_type": "execute_result"
    }
   ],
   "source": [
    "df.isnull().sum()"
   ]
  },
  {
   "cell_type": "code",
   "execution_count": 34,
   "id": "28a6b94e",
   "metadata": {
    "execution": {
     "iopub.execute_input": "2021-10-07T11:38:40.908225Z",
     "iopub.status.busy": "2021-10-07T11:38:40.907633Z",
     "iopub.status.idle": "2021-10-07T11:38:41.236958Z",
     "shell.execute_reply": "2021-10-07T11:38:41.237377Z",
     "shell.execute_reply.started": "2021-10-07T11:31:01.004761Z"
    },
    "papermill": {
     "duration": 0.389784,
     "end_time": "2021-10-07T11:38:41.237545",
     "exception": false,
     "start_time": "2021-10-07T11:38:40.847761",
     "status": "completed"
    },
    "tags": []
   },
   "outputs": [
    {
     "name": "stderr",
     "output_type": "stream",
     "text": [
      "/opt/conda/lib/python3.7/site-packages/seaborn/_decorators.py:43: FutureWarning: Pass the following variable as a keyword arg: x. From version 0.12, the only valid positional argument will be `data`, and passing other arguments without an explicit keyword will result in an error or misinterpretation.\n",
      "  FutureWarning\n"
     ]
    },
    {
     "data": {
      "text/plain": [
       "<AxesSubplot:xlabel='Day', ylabel='count'>"
      ]
     },
     "execution_count": 34,
     "metadata": {},
     "output_type": "execute_result"
    },
    {
     "data": {
      "image/png": "[encoded data removed]",
      "text/plain": [
       "<Figure size 576x576 with 1 Axes>"
      ]
     },
     "metadata": {
      "needs_background": "light"
     },
     "output_type": "display_data"
    }
   ],
   "source": [
    "plt.figure(figsize=(8,8))\n",
    "sns.countplot(df['Day'],order = df['Day'].value_counts().index)"
   ]
  },
  {
   "cell_type": "code",
   "execution_count": 35,
   "id": "79ce78a9",
   "metadata": {
    "execution": {
     "iopub.execute_input": "2021-10-07T11:38:41.346512Z",
     "iopub.status.busy": "2021-10-07T11:38:41.345623Z",
     "iopub.status.idle": "2021-10-07T11:38:41.515221Z",
     "shell.execute_reply": "2021-10-07T11:38:41.515701Z",
     "shell.execute_reply.started": "2021-10-07T11:31:01.493619Z"
    },
    "papermill": {
     "duration": 0.227544,
     "end_time": "2021-10-07T11:38:41.515862",
     "exception": false,
     "start_time": "2021-10-07T11:38:41.288318",
     "status": "completed"
    },
    "tags": []
   },
   "outputs": [
    {
     "name": "stderr",
     "output_type": "stream",
     "text": [
      "/opt/conda/lib/python3.7/site-packages/seaborn/_decorators.py:43: FutureWarning: Pass the following variable as a keyword arg: x. From version 0.12, the only valid positional argument will be `data`, and passing other arguments without an explicit keyword will result in an error or misinterpretation.\n",
      "  FutureWarning\n"
     ]
    },
    {
     "data": {
      "text/plain": [
       "<AxesSubplot:xlabel='WeekDay', ylabel='count'>"
      ]
     },
     "execution_count": 35,
     "metadata": {},
     "output_type": "execute_result"
    },
    {
     "data": {
      "image/png": "[encoded data removed]",
      "text/plain": [
       "<Figure size 576x576 with 1 Axes>"
      ]
     },
     "metadata": {
      "needs_background": "light"
     },
     "output_type": "display_data"
    }
   ],
   "source": [
    "plt.figure(figsize=(8,8))\n",
    "d = {0:'Monday', 1:'Tuesday', 2:'Wednesday', 3:'Thursday', 4:'Friday', 5:'Saturday', 6:'Sunday'}\n",
    "x = df['WeekDay'].map(d)\n",
    "sns.countplot(x,order = x.value_counts().index)"
   ]
  },
  {
   "cell_type": "code",
   "execution_count": 36,
   "id": "ed4b1ab7",
   "metadata": {
    "execution": {
     "iopub.execute_input": "2021-10-07T11:38:41.643460Z",
     "iopub.status.busy": "2021-10-07T11:38:41.642842Z",
     "iopub.status.idle": "2021-10-07T11:38:41.648002Z",
     "shell.execute_reply": "2021-10-07T11:38:41.648465Z",
     "shell.execute_reply.started": "2021-10-07T11:31:01.785299Z"
    },
    "papermill": {
     "duration": 0.078253,
     "end_time": "2021-10-07T11:38:41.648628",
     "exception": false,
     "start_time": "2021-10-07T11:38:41.570375",
     "status": "completed"
    },
    "tags": []
   },
   "outputs": [
    {
     "data": {
      "text/html": [
       "<div>\n",
       "<style scoped>\n",
       "    .dataframe tbody tr th:only-of-type {\n",
       "        vertical-align: middle;\n",
       "    }\n",
       "\n",
       "    .dataframe tbody tr th {\n",
       "        vertical-align: top;\n",
       "    }\n",
       "\n",
       "    .dataframe thead th {\n",
       "        text-align: right;\n",
       "    }\n",
       "</style>\n",
       "<table border=\"1\" class=\"dataframe\">\n",
       "  <thead>\n",
       "    <tr style=\"text-align: right;\">\n",
       "      <th></th>\n",
       "      <th>show_id</th>\n",
       "      <th>type</th>\n",
       "      <th>title</th>\n",
       "      <th>director</th>\n",
       "      <th>cast</th>\n",
       "      <th>country</th>\n",
       "      <th>date_added</th>\n",
       "      <th>release_year</th>\n",
       "      <th>rating</th>\n",
       "      <th>duration</th>\n",
       "      <th>listed_in</th>\n",
       "      <th>description</th>\n",
       "      <th>Year</th>\n",
       "      <th>Month</th>\n",
       "      <th>Day</th>\n",
       "      <th>WeekDay</th>\n",
       "    </tr>\n",
       "  </thead>\n",
       "  <tbody>\n",
       "    <tr>\n",
       "      <th>0</th>\n",
       "      <td>s1</td>\n",
       "      <td>Movie</td>\n",
       "      <td>Dick Johnson Is Dead</td>\n",
       "      <td>Kirsten Johnson</td>\n",
       "      <td>NaN</td>\n",
       "      <td>United States</td>\n",
       "      <td>September 25, 2021</td>\n",
       "      <td>2020</td>\n",
       "      <td>PG-13</td>\n",
       "      <td>90 min</td>\n",
       "      <td>Documentaries</td>\n",
       "      <td>As her father nears the end of his life, filmm...</td>\n",
       "      <td>2021</td>\n",
       "      <td>9</td>\n",
       "      <td>25</td>\n",
       "      <td>5</td>\n",
       "    </tr>\n",
       "    <tr>\n",
       "      <th>1</th>\n",
       "      <td>s2</td>\n",
       "      <td>TV Show</td>\n",
       "      <td>Blood &amp; Water</td>\n",
       "      <td>NaN</td>\n",
       "      <td>Ama Qamata, Khosi Ngema, Gail Mabalane, Thaban...</td>\n",
       "      <td>South Africa</td>\n",
       "      <td>September 24, 2021</td>\n",
       "      <td>2021</td>\n",
       "      <td>TV-MA</td>\n",
       "      <td>2 Seasons</td>\n",
       "      <td>International TV Shows, TV Dramas, TV Mysteries</td>\n",
       "      <td>After crossing paths at a party, a Cape Town t...</td>\n",
       "      <td>2021</td>\n",
       "      <td>9</td>\n",
       "      <td>24</td>\n",
       "      <td>4</td>\n",
       "    </tr>\n",
       "    <tr>\n",
       "      <th>2</th>\n",
       "      <td>s3</td>\n",
       "      <td>TV Show</td>\n",
       "      <td>Ganglands</td>\n",
       "      <td>Julien Leclercq</td>\n",
       "      <td>Sami Bouajila, Tracy Gotoas, Samuel Jouy, Nabi...</td>\n",
       "      <td>NaN</td>\n",
       "      <td>September 24, 2021</td>\n",
       "      <td>2021</td>\n",
       "      <td>TV-MA</td>\n",
       "      <td>1 Season</td>\n",
       "      <td>Crime TV Shows, International TV Shows, TV Act...</td>\n",
       "      <td>To protect his family from a powerful drug lor...</td>\n",
       "      <td>2021</td>\n",
       "      <td>9</td>\n",
       "      <td>24</td>\n",
       "      <td>4</td>\n",
       "    </tr>\n",
       "    <tr>\n",
       "      <th>3</th>\n",
       "      <td>s4</td>\n",
       "      <td>TV Show</td>\n",
       "      <td>Jailbirds New Orleans</td>\n",
       "      <td>NaN</td>\n",
       "      <td>NaN</td>\n",
       "      <td>NaN</td>\n",
       "      <td>September 24, 2021</td>\n",
       "      <td>2021</td>\n",
       "      <td>TV-MA</td>\n",
       "      <td>1 Season</td>\n",
       "      <td>Docuseries, Reality TV</td>\n",
       "      <td>Feuds, flirtations and toilet talk go down amo...</td>\n",
       "      <td>2021</td>\n",
       "      <td>9</td>\n",
       "      <td>24</td>\n",
       "      <td>4</td>\n",
       "    </tr>\n",
       "    <tr>\n",
       "      <th>4</th>\n",
       "      <td>s5</td>\n",
       "      <td>TV Show</td>\n",
       "      <td>Kota Factory</td>\n",
       "      <td>NaN</td>\n",
       "      <td>Mayur More, Jitendra Kumar, Ranjan Raj, Alam K...</td>\n",
       "      <td>India</td>\n",
       "      <td>September 24, 2021</td>\n",
       "      <td>2021</td>\n",
       "      <td>TV-MA</td>\n",
       "      <td>2 Seasons</td>\n",
       "      <td>International TV Shows, Romantic TV Shows, TV ...</td>\n",
       "      <td>In a city of coaching centers known to train I...</td>\n",
       "      <td>2021</td>\n",
       "      <td>9</td>\n",
       "      <td>24</td>\n",
       "      <td>4</td>\n",
       "    </tr>\n",
       "  </tbody>\n",
       "</table>\n",
       "</div>"
      ],
      "text/plain": [
       "  show_id     type                  title         director  \\\n",
       "0      s1    Movie   Dick Johnson Is Dead  Kirsten Johnson   \n",
       "1      s2  TV Show          Blood & Water              NaN   \n",
       "2      s3  TV Show              Ganglands  Julien Leclercq   \n",
       "3      s4  TV Show  Jailbirds New Orleans              NaN   \n",
       "4      s5  TV Show           Kota Factory              NaN   \n",
       "\n",
       "                                                cast        country  \\\n",
       "0                                                NaN  United States   \n",
       "1  Ama Qamata, Khosi Ngema, Gail Mabalane, Thaban...   South Africa   \n",
       "2  Sami Bouajila, Tracy Gotoas, Samuel Jouy, Nabi...            NaN   \n",
       "3                                                NaN            NaN   \n",
       "4  Mayur More, Jitendra Kumar, Ranjan Raj, Alam K...          India   \n",
       "\n",
       "           date_added  release_year rating   duration  \\\n",
       "0  September 25, 2021          2020  PG-13     90 min   \n",
       "1  September 24, 2021          2021  TV-MA  2 Seasons   \n",
       "2  September 24, 2021          2021  TV-MA   1 Season   \n",
       "3  September 24, 2021          2021  TV-MA   1 Season   \n",
       "4  September 24, 2021          2021  TV-MA  2 Seasons   \n",
       "\n",
       "                                           listed_in  \\\n",
       "0                                      Documentaries   \n",
       "1    International TV Shows, TV Dramas, TV Mysteries   \n",
       "2  Crime TV Shows, International TV Shows, TV Act...   \n",
       "3                             Docuseries, Reality TV   \n",
       "4  International TV Shows, Romantic TV Shows, TV ...   \n",
       "\n",
       "                                         description  Year  Month Day  WeekDay  \n",
       "0  As her father nears the end of his life, filmm...  2021      9  25        5  \n",
       "1  After crossing paths at a party, a Cape Town t...  2021      9  24        4  \n",
       "2  To protect his family from a powerful drug lor...  2021      9  24        4  \n",
       "3  Feuds, flirtations and toilet talk go down amo...  2021      9  24        4  \n",
       "4  In a city of coaching centers known to train I...  2021      9  24        4  "
      ]
     },
     "execution_count": 36,
     "metadata": {},
     "output_type": "execute_result"
    }
   ],
   "source": [
    "df.head()"
   ]
  },
  {
   "cell_type": "code",
   "execution_count": 37,
   "id": "79cb367a",
   "metadata": {
    "execution": {
     "iopub.execute_input": "2021-10-07T11:38:41.751737Z",
     "iopub.status.busy": "2021-10-07T11:38:41.751143Z",
     "iopub.status.idle": "2021-10-07T11:38:41.754656Z",
     "shell.execute_reply": "2021-10-07T11:38:41.754151Z",
     "shell.execute_reply.started": "2021-10-07T11:31:01.808449Z"
    },
    "papermill": {
     "duration": 0.057399,
     "end_time": "2021-10-07T11:38:41.754785",
     "exception": false,
     "start_time": "2021-10-07T11:38:41.697386",
     "status": "completed"
    },
    "tags": []
   },
   "outputs": [
    {
     "data": {
      "text/plain": [
       "'As her father nears the end of his life, filmmaker Kirsten Johnson stages his death in inventive and comical ways to help them both face the inevitable.'"
      ]
     },
     "execution_count": 37,
     "metadata": {},
     "output_type": "execute_result"
    }
   ],
   "source": [
    "df['description'][0]"
   ]
  },
  {
   "cell_type": "code",
   "execution_count": 38,
   "id": "0f390199",
   "metadata": {
    "execution": {
     "iopub.execute_input": "2021-10-07T11:38:41.858143Z",
     "iopub.status.busy": "2021-10-07T11:38:41.857592Z",
     "iopub.status.idle": "2021-10-07T11:38:41.869119Z",
     "shell.execute_reply": "2021-10-07T11:38:41.868615Z",
     "shell.execute_reply.started": "2021-10-07T11:31:01.821170Z"
    },
    "papermill": {
     "duration": 0.0653,
     "end_time": "2021-10-07T11:38:41.869268",
     "exception": false,
     "start_time": "2021-10-07T11:38:41.803968",
     "status": "completed"
    },
    "tags": []
   },
   "outputs": [
    {
     "data": {
      "text/html": [
       "<div>\n",
       "<style scoped>\n",
       "    .dataframe tbody tr th:only-of-type {\n",
       "        vertical-align: middle;\n",
       "    }\n",
       "\n",
       "    .dataframe tbody tr th {\n",
       "        vertical-align: top;\n",
       "    }\n",
       "\n",
       "    .dataframe thead th {\n",
       "        text-align: right;\n",
       "    }\n",
       "</style>\n",
       "<table border=\"1\" class=\"dataframe\">\n",
       "  <thead>\n",
       "    <tr style=\"text-align: right;\">\n",
       "      <th></th>\n",
       "      <th>title</th>\n",
       "      <th>director</th>\n",
       "      <th>cast</th>\n",
       "      <th>listed_in</th>\n",
       "      <th>description</th>\n",
       "    </tr>\n",
       "  </thead>\n",
       "  <tbody>\n",
       "    <tr>\n",
       "      <th>0</th>\n",
       "      <td>Dick Johnson Is Dead</td>\n",
       "      <td>Kirsten Johnson</td>\n",
       "      <td>NaN</td>\n",
       "      <td>Documentaries</td>\n",
       "      <td>As her father nears the end of his life, filmm...</td>\n",
       "    </tr>\n",
       "    <tr>\n",
       "      <th>1</th>\n",
       "      <td>Blood &amp; Water</td>\n",
       "      <td>NaN</td>\n",
       "      <td>Ama Qamata, Khosi Ngema, Gail Mabalane, Thaban...</td>\n",
       "      <td>International TV Shows, TV Dramas, TV Mysteries</td>\n",
       "      <td>After crossing paths at a party, a Cape Town t...</td>\n",
       "    </tr>\n",
       "    <tr>\n",
       "      <th>2</th>\n",
       "      <td>Ganglands</td>\n",
       "      <td>Julien Leclercq</td>\n",
       "      <td>Sami Bouajila, Tracy Gotoas, Samuel Jouy, Nabi...</td>\n",
       "      <td>Crime TV Shows, International TV Shows, TV Act...</td>\n",
       "      <td>To protect his family from a powerful drug lor...</td>\n",
       "    </tr>\n",
       "    <tr>\n",
       "      <th>3</th>\n",
       "      <td>Jailbirds New Orleans</td>\n",
       "      <td>NaN</td>\n",
       "      <td>NaN</td>\n",
       "      <td>Docuseries, Reality TV</td>\n",
       "      <td>Feuds, flirtations and toilet talk go down amo...</td>\n",
       "    </tr>\n",
       "    <tr>\n",
       "      <th>4</th>\n",
       "      <td>Kota Factory</td>\n",
       "      <td>NaN</td>\n",
       "      <td>Mayur More, Jitendra Kumar, Ranjan Raj, Alam K...</td>\n",
       "      <td>International TV Shows, Romantic TV Shows, TV ...</td>\n",
       "      <td>In a city of coaching centers known to train I...</td>\n",
       "    </tr>\n",
       "  </tbody>\n",
       "</table>\n",
       "</div>"
      ],
      "text/plain": [
       "                   title         director  \\\n",
       "0   Dick Johnson Is Dead  Kirsten Johnson   \n",
       "1          Blood & Water              NaN   \n",
       "2              Ganglands  Julien Leclercq   \n",
       "3  Jailbirds New Orleans              NaN   \n",
       "4           Kota Factory              NaN   \n",
       "\n",
       "                                                cast  \\\n",
       "0                                                NaN   \n",
       "1  Ama Qamata, Khosi Ngema, Gail Mabalane, Thaban...   \n",
       "2  Sami Bouajila, Tracy Gotoas, Samuel Jouy, Nabi...   \n",
       "3                                                NaN   \n",
       "4  Mayur More, Jitendra Kumar, Ranjan Raj, Alam K...   \n",
       "\n",
       "                                           listed_in  \\\n",
       "0                                      Documentaries   \n",
       "1    International TV Shows, TV Dramas, TV Mysteries   \n",
       "2  Crime TV Shows, International TV Shows, TV Act...   \n",
       "3                             Docuseries, Reality TV   \n",
       "4  International TV Shows, Romantic TV Shows, TV ...   \n",
       "\n",
       "                                         description  \n",
       "0  As her father nears the end of his life, filmm...  \n",
       "1  After crossing paths at a party, a Cape Town t...  \n",
       "2  To protect his family from a powerful drug lor...  \n",
       "3  Feuds, flirtations and toilet talk go down amo...  \n",
       "4  In a city of coaching centers known to train I...  "
      ]
     },
     "execution_count": 38,
     "metadata": {},
     "output_type": "execute_result"
    }
   ],
   "source": [
    "rec = df[['title','director','cast','listed_in','description']]\n",
    "rec.head()"
   ]
  },
  {
   "cell_type": "code",
   "execution_count": 39,
   "id": "7fa657c5",
   "metadata": {
    "execution": {
     "iopub.execute_input": "2021-10-07T11:38:41.977889Z",
     "iopub.status.busy": "2021-10-07T11:38:41.977321Z",
     "iopub.status.idle": "2021-10-07T11:38:41.986730Z",
     "shell.execute_reply": "2021-10-07T11:38:41.986186Z",
     "shell.execute_reply.started": "2021-10-07T11:31:01.842160Z"
    },
    "papermill": {
     "duration": 0.064694,
     "end_time": "2021-10-07T11:38:41.986886",
     "exception": false,
     "start_time": "2021-10-07T11:38:41.922192",
     "status": "completed"
    },
    "tags": []
   },
   "outputs": [
    {
     "data": {
      "text/plain": [
       "title             0\n",
       "director       2634\n",
       "cast            825\n",
       "listed_in         0\n",
       "description       0\n",
       "dtype: int64"
      ]
     },
     "execution_count": 39,
     "metadata": {},
     "output_type": "execute_result"
    }
   ],
   "source": [
    "rec.isnull().sum()"
   ]
  },
  {
   "cell_type": "code",
   "execution_count": 40,
   "id": "7bddede5",
   "metadata": {
    "execution": {
     "iopub.execute_input": "2021-10-07T11:38:42.099213Z",
     "iopub.status.busy": "2021-10-07T11:38:42.095672Z",
     "iopub.status.idle": "2021-10-07T11:38:42.110943Z",
     "shell.execute_reply": "2021-10-07T11:38:42.110136Z",
     "shell.execute_reply.started": "2021-10-07T11:31:01.860725Z"
    },
    "papermill": {
     "duration": 0.071317,
     "end_time": "2021-10-07T11:38:42.111129",
     "exception": false,
     "start_time": "2021-10-07T11:38:42.039812",
     "status": "completed"
    },
    "tags": []
   },
   "outputs": [
    {
     "name": "stderr",
     "output_type": "stream",
     "text": [
      "/opt/conda/lib/python3.7/site-packages/pandas/core/generic.py:6619: SettingWithCopyWarning: \n",
      "A value is trying to be set on a copy of a slice from a DataFrame\n",
      "\n",
      "See the caveats in the documentation: https://pandas.pydata.org/pandas-docs/stable/user_guide/indexing.html#returning-a-view-versus-a-copy\n",
      "  return self._update_inplace(result)\n"
     ]
    }
   ],
   "source": [
    "rec['director'].replace(np.nan,'unknown',inplace=True)\n",
    "rec['cast'].replace(np.nan,'unknown',inplace=True)"
   ]
  },
  {
   "cell_type": "code",
   "execution_count": 41,
   "id": "2e1656d1",
   "metadata": {
    "execution": {
     "iopub.execute_input": "2021-10-07T11:38:42.240797Z",
     "iopub.status.busy": "2021-10-07T11:38:42.222407Z",
     "iopub.status.idle": "2021-10-07T11:38:42.244470Z",
     "shell.execute_reply": "2021-10-07T11:38:42.243986Z",
     "shell.execute_reply.started": "2021-10-07T11:31:01.886937Z"
    },
    "papermill": {
     "duration": 0.080477,
     "end_time": "2021-10-07T11:38:42.244651",
     "exception": false,
     "start_time": "2021-10-07T11:38:42.164174",
     "status": "completed"
    },
    "tags": []
   },
   "outputs": [
    {
     "name": "stderr",
     "output_type": "stream",
     "text": [
      "/opt/conda/lib/python3.7/site-packages/ipykernel_launcher.py:1: SettingWithCopyWarning: \n",
      "A value is trying to be set on a copy of a slice from a DataFrame.\n",
      "Try using .loc[row_indexer,col_indexer] = value instead\n",
      "\n",
      "See the caveats in the documentation: https://pandas.pydata.org/pandas-docs/stable/user_guide/indexing.html#returning-a-view-versus-a-copy\n",
      "  \"\"\"Entry point for launching an IPython kernel.\n"
     ]
    }
   ],
   "source": [
    "rec['cast'] = rec['cast'].str.replace(', ',' ')"
   ]
  },
  {
   "cell_type": "code",
   "execution_count": 42,
   "id": "d4e44dc7",
   "metadata": {
    "execution": {
     "iopub.execute_input": "2021-10-07T11:38:42.370630Z",
     "iopub.status.busy": "2021-10-07T11:38:42.369535Z",
     "iopub.status.idle": "2021-10-07T11:38:42.372988Z",
     "shell.execute_reply": "2021-10-07T11:38:42.373677Z",
     "shell.execute_reply.started": "2021-10-07T11:31:01.917707Z"
    },
    "papermill": {
     "duration": 0.074004,
     "end_time": "2021-10-07T11:38:42.373898",
     "exception": false,
     "start_time": "2021-10-07T11:38:42.299894",
     "status": "completed"
    },
    "tags": []
   },
   "outputs": [
    {
     "name": "stderr",
     "output_type": "stream",
     "text": [
      "/opt/conda/lib/python3.7/site-packages/ipykernel_launcher.py:1: SettingWithCopyWarning: \n",
      "A value is trying to be set on a copy of a slice from a DataFrame.\n",
      "Try using .loc[row_indexer,col_indexer] = value instead\n",
      "\n",
      "See the caveats in the documentation: https://pandas.pydata.org/pandas-docs/stable/user_guide/indexing.html#returning-a-view-versus-a-copy\n",
      "  \"\"\"Entry point for launching an IPython kernel.\n"
     ]
    }
   ],
   "source": [
    "rec['listed_in'] = rec['listed_in'].str.replace(', ',' ')"
   ]
  },
  {
   "cell_type": "code",
   "execution_count": 43,
   "id": "4cbaa13e",
   "metadata": {
    "execution": {
     "iopub.execute_input": "2021-10-07T11:38:42.488037Z",
     "iopub.status.busy": "2021-10-07T11:38:42.487419Z",
     "iopub.status.idle": "2021-10-07T11:38:42.490381Z",
     "shell.execute_reply": "2021-10-07T11:38:42.489889Z",
     "shell.execute_reply.started": "2021-10-07T11:31:01.940714Z"
    },
    "papermill": {
     "duration": 0.062089,
     "end_time": "2021-10-07T11:38:42.490517",
     "exception": false,
     "start_time": "2021-10-07T11:38:42.428428",
     "status": "completed"
    },
    "tags": []
   },
   "outputs": [],
   "source": [
    "rec_wo_des = rec.drop(['description'],axis=1)"
   ]
  },
  {
   "cell_type": "code",
   "execution_count": 44,
   "id": "bccbc761",
   "metadata": {
    "execution": {
     "iopub.execute_input": "2021-10-07T11:38:42.628363Z",
     "iopub.status.busy": "2021-10-07T11:38:42.627654Z",
     "iopub.status.idle": "2021-10-07T11:38:42.630547Z",
     "shell.execute_reply": "2021-10-07T11:38:42.631006Z",
     "shell.execute_reply.started": "2021-10-07T11:31:01.949223Z"
    },
    "papermill": {
     "duration": 0.087118,
     "end_time": "2021-10-07T11:38:42.631174",
     "exception": false,
     "start_time": "2021-10-07T11:38:42.544056",
     "status": "completed"
    },
    "tags": []
   },
   "outputs": [
    {
     "name": "stderr",
     "output_type": "stream",
     "text": [
      "/opt/conda/lib/python3.7/site-packages/ipykernel_launcher.py:1: SettingWithCopyWarning: \n",
      "A value is trying to be set on a copy of a slice from a DataFrame.\n",
      "Try using .loc[row_indexer,col_indexer] = value instead\n",
      "\n",
      "See the caveats in the documentation: https://pandas.pydata.org/pandas-docs/stable/user_guide/indexing.html#returning-a-view-versus-a-copy\n",
      "  \"\"\"Entry point for launching an IPython kernel.\n"
     ]
    }
   ],
   "source": [
    "rec['combined'] = rec['title'] + ' ' + rec['director'] + ' ' + rec['cast'] + ' ' + rec['listed_in'] + ' ' + rec['description']\n",
    "rec_wo_des['combined'] = rec_wo_des['title'] + ' ' + rec_wo_des['director'] + ' ' + rec_wo_des['cast'] + ' ' + rec_wo_des['listed_in']"
   ]
  },
  {
   "cell_type": "code",
   "execution_count": 45,
   "id": "6d662001",
   "metadata": {
    "execution": {
     "iopub.execute_input": "2021-10-07T11:38:42.747348Z",
     "iopub.status.busy": "2021-10-07T11:38:42.744958Z",
     "iopub.status.idle": "2021-10-07T11:38:42.755898Z",
     "shell.execute_reply": "2021-10-07T11:38:42.755039Z",
     "shell.execute_reply.started": "2021-10-07T11:31:02.004812Z"
    },
    "papermill": {
     "duration": 0.071342,
     "end_time": "2021-10-07T11:38:42.756083",
     "exception": false,
     "start_time": "2021-10-07T11:38:42.684741",
     "status": "completed"
    },
    "tags": []
   },
   "outputs": [
    {
     "name": "stderr",
     "output_type": "stream",
     "text": [
      "/opt/conda/lib/python3.7/site-packages/pandas/core/frame.py:4908: SettingWithCopyWarning: \n",
      "A value is trying to be set on a copy of a slice from a DataFrame\n",
      "\n",
      "See the caveats in the documentation: https://pandas.pydata.org/pandas-docs/stable/user_guide/indexing.html#returning-a-view-versus-a-copy\n",
      "  errors=errors,\n"
     ]
    }
   ],
   "source": [
    "rec.drop(['cast','director','listed_in','description'],axis=1,inplace=True, errors='ignore')"
   ]
  },
  {
   "cell_type": "code",
   "execution_count": 46,
   "id": "203807f5",
   "metadata": {
    "execution": {
     "iopub.execute_input": "2021-10-07T11:38:42.870900Z",
     "iopub.status.busy": "2021-10-07T11:38:42.870090Z",
     "iopub.status.idle": "2021-10-07T11:38:42.873979Z",
     "shell.execute_reply": "2021-10-07T11:38:42.873409Z",
     "shell.execute_reply.started": "2021-10-07T11:31:02.022510Z"
    },
    "papermill": {
     "duration": 0.064237,
     "end_time": "2021-10-07T11:38:42.874116",
     "exception": false,
     "start_time": "2021-10-07T11:38:42.809879",
     "status": "completed"
    },
    "tags": []
   },
   "outputs": [
    {
     "data": {
      "text/html": [
       "<div>\n",
       "<style scoped>\n",
       "    .dataframe tbody tr th:only-of-type {\n",
       "        vertical-align: middle;\n",
       "    }\n",
       "\n",
       "    .dataframe tbody tr th {\n",
       "        vertical-align: top;\n",
       "    }\n",
       "\n",
       "    .dataframe thead th {\n",
       "        text-align: right;\n",
       "    }\n",
       "</style>\n",
       "<table border=\"1\" class=\"dataframe\">\n",
       "  <thead>\n",
       "    <tr style=\"text-align: right;\">\n",
       "      <th></th>\n",
       "      <th>title</th>\n",
       "      <th>combined</th>\n",
       "    </tr>\n",
       "  </thead>\n",
       "  <tbody>\n",
       "    <tr>\n",
       "      <th>0</th>\n",
       "      <td>Dick Johnson Is Dead</td>\n",
       "      <td>Dick Johnson Is Dead Kirsten Johnson unknown D...</td>\n",
       "    </tr>\n",
       "    <tr>\n",
       "      <th>1</th>\n",
       "      <td>Blood &amp; Water</td>\n",
       "      <td>Blood &amp; Water unknown Ama Qamata Khosi Ngema G...</td>\n",
       "    </tr>\n",
       "    <tr>\n",
       "      <th>2</th>\n",
       "      <td>Ganglands</td>\n",
       "      <td>Ganglands Julien Leclercq Sami Bouajila Tracy ...</td>\n",
       "    </tr>\n",
       "    <tr>\n",
       "      <th>3</th>\n",
       "      <td>Jailbirds New Orleans</td>\n",
       "      <td>Jailbirds New Orleans unknown unknown Docuseri...</td>\n",
       "    </tr>\n",
       "    <tr>\n",
       "      <th>4</th>\n",
       "      <td>Kota Factory</td>\n",
       "      <td>Kota Factory unknown Mayur More Jitendra Kumar...</td>\n",
       "    </tr>\n",
       "  </tbody>\n",
       "</table>\n",
       "</div>"
      ],
      "text/plain": [
       "                   title                                           combined\n",
       "0   Dick Johnson Is Dead  Dick Johnson Is Dead Kirsten Johnson unknown D...\n",
       "1          Blood & Water  Blood & Water unknown Ama Qamata Khosi Ngema G...\n",
       "2              Ganglands  Ganglands Julien Leclercq Sami Bouajila Tracy ...\n",
       "3  Jailbirds New Orleans  Jailbirds New Orleans unknown unknown Docuseri...\n",
       "4           Kota Factory  Kota Factory unknown Mayur More Jitendra Kumar..."
      ]
     },
     "execution_count": 46,
     "metadata": {},
     "output_type": "execute_result"
    }
   ],
   "source": [
    "rec.head()"
   ]
  },
  {
   "cell_type": "code",
   "execution_count": 47,
   "id": "956d717b",
   "metadata": {
    "execution": {
     "iopub.execute_input": "2021-10-07T11:38:42.987506Z",
     "iopub.status.busy": "2021-10-07T11:38:42.986792Z",
     "iopub.status.idle": "2021-10-07T11:38:42.990477Z",
     "shell.execute_reply": "2021-10-07T11:38:42.989919Z",
     "shell.execute_reply.started": "2021-10-07T11:31:02.038972Z"
    },
    "papermill": {
     "duration": 0.06245,
     "end_time": "2021-10-07T11:38:42.990651",
     "exception": false,
     "start_time": "2021-10-07T11:38:42.928201",
     "status": "completed"
    },
    "tags": []
   },
   "outputs": [
    {
     "data": {
      "text/plain": [
       "'Blood & Water unknown Ama Qamata Khosi Ngema Gail Mabalane Thabang Molaba Dillon Windvogel Natasha Thahane Arno Greeff Xolile Tshabalala Getmore Sithole Cindy Mahlangu Ryle De Morny Greteli Fincham Sello Maake Ka-Ncube Odwa Gwanya Mekaila Mathys Sandi Schultz Duane Williams Shamilla Miller Patrick Mofokeng International TV Shows TV Dramas TV Mysteries After crossing paths at a party, a Cape Town teen sets out to prove whether a private-school swimming star is her sister who was abducted at birth.'"
      ]
     },
     "execution_count": 47,
     "metadata": {},
     "output_type": "execute_result"
    }
   ],
   "source": [
    "rec['combined'][1]"
   ]
  },
  {
   "cell_type": "code",
   "execution_count": 48,
   "id": "9cd029ef",
   "metadata": {
    "execution": {
     "iopub.execute_input": "2021-10-07T11:38:43.100450Z",
     "iopub.status.busy": "2021-10-07T11:38:43.099835Z",
     "iopub.status.idle": "2021-10-07T11:38:43.228421Z",
     "shell.execute_reply": "2021-10-07T11:38:43.227887Z",
     "shell.execute_reply.started": "2021-10-07T11:31:02.049794Z"
    },
    "papermill": {
     "duration": 0.185025,
     "end_time": "2021-10-07T11:38:43.228581",
     "exception": false,
     "start_time": "2021-10-07T11:38:43.043556",
     "status": "completed"
    },
    "tags": []
   },
   "outputs": [],
   "source": [
    "from sklearn.feature_extraction.text import TfidfVectorizer"
   ]
  },
  {
   "cell_type": "code",
   "execution_count": 49,
   "id": "724564c1",
   "metadata": {
    "execution": {
     "iopub.execute_input": "2021-10-07T11:38:43.365686Z",
     "iopub.status.busy": "2021-10-07T11:38:43.360608Z",
     "iopub.status.idle": "2021-10-07T11:38:43.928855Z",
     "shell.execute_reply": "2021-10-07T11:38:43.928359Z",
     "shell.execute_reply.started": "2021-10-07T11:31:02.185064Z"
    },
    "papermill": {
     "duration": 0.647775,
     "end_time": "2021-10-07T11:38:43.928997",
     "exception": false,
     "start_time": "2021-10-07T11:38:43.281222",
     "status": "completed"
    },
    "tags": []
   },
   "outputs": [
    {
     "data": {
      "text/plain": [
       "(8807, 52938)"
      ]
     },
     "execution_count": 49,
     "metadata": {},
     "output_type": "execute_result"
    }
   ],
   "source": [
    "#removing stopwords\n",
    "tfidf = TfidfVectorizer(stop_words='english')\n",
    "\n",
    "#Construct the required TF-IDF matrix\n",
    "tfidf_matrix = tfidf.fit_transform(rec['combined'].str.lower())\n",
    "\n",
    "tfidf_matrix.shape"
   ]
  },
  {
   "cell_type": "code",
   "execution_count": 50,
   "id": "d95557d7",
   "metadata": {
    "execution": {
     "iopub.execute_input": "2021-10-07T11:38:44.040725Z",
     "iopub.status.busy": "2021-10-07T11:38:44.040055Z",
     "iopub.status.idle": "2021-10-07T11:38:46.320146Z",
     "shell.execute_reply": "2021-10-07T11:38:46.320613Z",
     "shell.execute_reply.started": "2021-10-07T11:31:03.102688Z"
    },
    "papermill": {
     "duration": 2.338604,
     "end_time": "2021-10-07T11:38:46.320801",
     "exception": false,
     "start_time": "2021-10-07T11:38:43.982197",
     "status": "completed"
    },
    "tags": []
   },
   "outputs": [],
   "source": [
    "from sklearn.metrics.pairwise import linear_kernel\n",
    "\n",
    "#cosine similarity matrix\n",
    "cosine_sim = linear_kernel(tfidf_matrix, tfidf_matrix)"
   ]
  },
  {
   "cell_type": "code",
   "execution_count": 51,
   "id": "e404a990",
   "metadata": {
    "execution": {
     "iopub.execute_input": "2021-10-07T11:38:46.431995Z",
     "iopub.status.busy": "2021-10-07T11:38:46.431394Z",
     "iopub.status.idle": "2021-10-07T11:38:46.433750Z",
     "shell.execute_reply": "2021-10-07T11:38:46.434182Z",
     "shell.execute_reply.started": "2021-10-07T11:31:05.471631Z"
    },
    "papermill": {
     "duration": 0.059537,
     "end_time": "2021-10-07T11:38:46.434362",
     "exception": false,
     "start_time": "2021-10-07T11:38:46.374825",
     "status": "completed"
    },
    "tags": []
   },
   "outputs": [
    {
     "name": "stdout",
     "output_type": "stream",
     "text": [
      "RangeIndex(start=0, stop=8807, step=1)\n"
     ]
    }
   ],
   "source": [
    "print(rec.index)"
   ]
  },
  {
   "cell_type": "code",
   "execution_count": 52,
   "id": "2914e3da",
   "metadata": {
    "execution": {
     "iopub.execute_input": "2021-10-07T11:38:46.543059Z",
     "iopub.status.busy": "2021-10-07T11:38:46.542530Z",
     "iopub.status.idle": "2021-10-07T11:38:46.546987Z",
     "shell.execute_reply": "2021-10-07T11:38:46.547439Z",
     "shell.execute_reply.started": "2021-10-07T11:31:05.480905Z"
    },
    "papermill": {
     "duration": 0.060629,
     "end_time": "2021-10-07T11:38:46.547599",
     "exception": false,
     "start_time": "2021-10-07T11:38:46.486970",
     "status": "completed"
    },
    "tags": []
   },
   "outputs": [],
   "source": [
    "indices = pd.Series(rec.index, index=rec['title']).drop_duplicates()"
   ]
  },
  {
   "cell_type": "code",
   "execution_count": 53,
   "id": "3476cd2c",
   "metadata": {
    "execution": {
     "iopub.execute_input": "2021-10-07T11:38:46.656096Z",
     "iopub.status.busy": "2021-10-07T11:38:46.655516Z",
     "iopub.status.idle": "2021-10-07T11:38:46.659500Z",
     "shell.execute_reply": "2021-10-07T11:38:46.659918Z",
     "shell.execute_reply.started": "2021-10-07T11:31:05.492340Z"
    },
    "papermill": {
     "duration": 0.059701,
     "end_time": "2021-10-07T11:38:46.660076",
     "exception": false,
     "start_time": "2021-10-07T11:38:46.600375",
     "status": "completed"
    },
    "tags": []
   },
   "outputs": [
    {
     "data": {
      "text/plain": [
       "pandas.core.series.Series"
      ]
     },
     "execution_count": 53,
     "metadata": {},
     "output_type": "execute_result"
    }
   ],
   "source": [
    "type(indices)"
   ]
  },
  {
   "cell_type": "code",
   "execution_count": 54,
   "id": "11edfe51",
   "metadata": {
    "execution": {
     "iopub.execute_input": "2021-10-07T11:38:46.769091Z",
     "iopub.status.busy": "2021-10-07T11:38:46.768498Z",
     "iopub.status.idle": "2021-10-07T11:38:46.773803Z",
     "shell.execute_reply": "2021-10-07T11:38:46.774213Z",
     "shell.execute_reply.started": "2021-10-07T11:38:07.995647Z"
    },
    "papermill": {
     "duration": 0.061821,
     "end_time": "2021-10-07T11:38:46.774420",
     "exception": false,
     "start_time": "2021-10-07T11:38:46.712599",
     "status": "completed"
    },
    "tags": []
   },
   "outputs": [],
   "source": [
    "def get_recommendations(title, cosine_sim=cosine_sim):\n",
    "    try:\n",
    "        idx = indices[title]\n",
    "    except:\n",
    "        return None\n",
    "    #print(f'idx={idx}')\n",
    "    \n",
    "    #Get similarity score with all movies\n",
    "    sim_scores = list(enumerate(cosine_sim[idx]))\n",
    "    #print(f'cosine_sim={cosine_sim[idx]}')\n",
    "    \n",
    "    # Sort the movies\n",
    "    sim_scores = sorted(sim_scores, key=lambda x: x[1], reverse=True)\n",
    "    \n",
    "    #Top 10 movies. The 0th will be the movie itself\n",
    "    sim_scores = sim_scores[1:11]\n",
    "    #print(f'sim_scores={sim_scores}')\n",
    "    \n",
    "    # Get the movie indices\n",
    "    match = [i[0] for i in sim_scores]\n",
    "    score = [i[1] for i in sim_scores]\n",
    "    dictionary = dict(zip(match, score))\n",
    "    #print(dictionary)\n",
    "    \n",
    "    return dictionary"
   ]
  },
  {
   "cell_type": "code",
   "execution_count": 55,
   "id": "ab1e8979",
   "metadata": {
    "execution": {
     "iopub.execute_input": "2021-10-07T11:38:46.883812Z",
     "iopub.status.busy": "2021-10-07T11:38:46.883150Z",
     "iopub.status.idle": "2021-10-07T11:38:46.886880Z",
     "shell.execute_reply": "2021-10-07T11:38:46.887308Z",
     "shell.execute_reply.started": "2021-10-07T11:38:09.186665Z"
    },
    "papermill": {
     "duration": 0.059923,
     "end_time": "2021-10-07T11:38:46.887487",
     "exception": false,
     "start_time": "2021-10-07T11:38:46.827564",
     "status": "completed"
    },
    "tags": []
   },
   "outputs": [],
   "source": [
    "def recommend(title):\n",
    "    result = get_recommendations(title)\n",
    "    #print(result)\n",
    "    if result is None:\n",
    "        print(f'{title} not found in database')\n",
    "    else:\n",
    "        print(f'Movie related to {title} are: ')\n",
    "        for i in result:\n",
    "            print(f\"{rec['title'].iloc[i]} with score {result[i]*100:.2f} %\")"
   ]
  },
  {
   "cell_type": "code",
   "execution_count": 56,
   "id": "e2cbd968",
   "metadata": {
    "execution": {
     "iopub.execute_input": "2021-10-07T11:38:46.997009Z",
     "iopub.status.busy": "2021-10-07T11:38:46.996436Z",
     "iopub.status.idle": "2021-10-07T11:38:47.011510Z",
     "shell.execute_reply": "2021-10-07T11:38:47.012172Z",
     "shell.execute_reply.started": "2021-10-07T11:37:55.313978Z"
    },
    "papermill": {
     "duration": 0.07168,
     "end_time": "2021-10-07T11:38:47.012422",
     "exception": false,
     "start_time": "2021-10-07T11:38:46.940742",
     "status": "completed"
    },
    "tags": []
   },
   "outputs": [
    {
     "name": "stdout",
     "output_type": "stream",
     "text": [
      "Movie related to Avengers: Infinity War are: \n",
      "Thor: Ragnarok with score 16.99 %\n",
      "Black Panther with score 11.27 %\n",
      "Her with score 10.78 %\n",
      "Mark Gatiss: A Study in Sherlock with score 10.73 %\n",
      "War Horse with score 10.42 %\n",
      "The Little Prince with score 9.24 %\n",
      "Chef with score 9.02 %\n",
      "Chris Brown: Welcome to My Life with score 8.37 %\n",
      "Crimson Peak with score 8.27 %\n",
      "Legion with score 8.16 %\n"
     ]
    }
   ],
   "source": [
    "recommend('Avengers: Infinity War')"
   ]
  },
  {
   "cell_type": "code",
   "execution_count": 57,
   "id": "498053fc",
   "metadata": {
    "execution": {
     "iopub.execute_input": "2021-10-07T11:38:47.132820Z",
     "iopub.status.busy": "2021-10-07T11:38:47.132182Z",
     "iopub.status.idle": "2021-10-07T11:38:47.137006Z",
     "shell.execute_reply": "2021-10-07T11:38:47.137439Z",
     "shell.execute_reply.started": "2021-10-07T11:37:56.225854Z"
    },
    "papermill": {
     "duration": 0.071047,
     "end_time": "2021-10-07T11:38:47.137610",
     "exception": false,
     "start_time": "2021-10-07T11:38:47.066563",
     "status": "completed"
    },
    "tags": []
   },
   "outputs": [
    {
     "name": "stdout",
     "output_type": "stream",
     "text": [
      "Movie related to 3 Idiots are: \n",
      "PK with score 31.00 %\n",
      "Rang De Basanti with score 17.18 %\n",
      "Sanju with score 16.48 %\n",
      "Ek Main Aur Ekk Tu with score 15.60 %\n",
      "War Chhod Na Yaar with score 14.96 %\n",
      "Engineering Girls with score 14.60 %\n",
      "Don with score 11.80 %\n",
      "For Here or to Go? with score 11.73 %\n",
      "Oh Darling Yeh Hai India with score 11.41 %\n",
      "Andaz Apna Apna with score 11.31 %\n"
     ]
    }
   ],
   "source": [
    "recommend('3 Idiots')"
   ]
  },
  {
   "cell_type": "code",
   "execution_count": 58,
   "id": "21d11ce7",
   "metadata": {
    "execution": {
     "iopub.execute_input": "2021-10-07T11:38:47.257274Z",
     "iopub.status.busy": "2021-10-07T11:38:47.254785Z",
     "iopub.status.idle": "2021-10-07T11:38:47.261037Z",
     "shell.execute_reply": "2021-10-07T11:38:47.260598Z",
     "shell.execute_reply.started": "2021-10-07T11:37:57.385965Z"
    },
    "papermill": {
     "duration": 0.0701,
     "end_time": "2021-10-07T11:38:47.261174",
     "exception": false,
     "start_time": "2021-10-07T11:38:47.191074",
     "status": "completed"
    },
    "tags": []
   },
   "outputs": [
    {
     "name": "stdout",
     "output_type": "stream",
     "text": [
      "Movie related to Krishna Cottage are: \n",
      "Kucch To Hai with score 14.53 %\n",
      "Darna Mana Hai with score 14.08 %\n",
      "Maine Pyaar Kyun Kiya with score 14.07 %\n",
      "Yaadein with score 13.06 %\n",
      "My Friend Pinto with score 12.58 %\n",
      "Shiva with score 12.13 %\n",
      "Krishna Balram with score 11.99 %\n",
      "Don with score 10.93 %\n",
      "Ramji Londonwaley with score 10.45 %\n",
      "Hello Brother with score 10.27 %\n"
     ]
    }
   ],
   "source": [
    "recommend('Krishna Cottage')"
   ]
  },
  {
   "cell_type": "code",
   "execution_count": 59,
   "id": "e2fedd1e",
   "metadata": {
    "execution": {
     "iopub.execute_input": "2021-10-07T11:38:47.372838Z",
     "iopub.status.busy": "2021-10-07T11:38:47.372222Z",
     "iopub.status.idle": "2021-10-07T11:38:47.386178Z",
     "shell.execute_reply": "2021-10-07T11:38:47.387031Z",
     "shell.execute_reply.started": "2021-10-07T11:37:59.804676Z"
    },
    "papermill": {
     "duration": 0.072042,
     "end_time": "2021-10-07T11:38:47.387295",
     "exception": false,
     "start_time": "2021-10-07T11:38:47.315253",
     "status": "completed"
    },
    "tags": []
   },
   "outputs": [
    {
     "name": "stdout",
     "output_type": "stream",
     "text": [
      "Movie related to Pineapple Express are: \n",
      "The Interview with score 20.21 %\n",
      "Seth Rogen's Hilarity for Charity with score 16.07 %\n",
      "The Adderall Diaries with score 11.38 %\n",
      "Superbad with score 11.02 %\n",
      "The Disaster Artist with score 11.01 %\n",
      "3 Days to Kill with score 10.54 %\n",
      "Girlfriend's Day with score 9.31 %\n",
      "The Green Hornet with score 9.30 %\n",
      "In Too Deep with score 8.45 %\n",
      "Kung Fu Panda 2 with score 8.27 %\n"
     ]
    }
   ],
   "source": [
    "recommend('Pineapple Express')"
   ]
  },
  {
   "cell_type": "code",
   "execution_count": 60,
   "id": "cb5608fe",
   "metadata": {
    "execution": {
     "iopub.execute_input": "2021-10-07T11:38:47.501439Z",
     "iopub.status.busy": "2021-10-07T11:38:47.500848Z",
     "iopub.status.idle": "2021-10-07T11:38:47.504264Z",
     "shell.execute_reply": "2021-10-07T11:38:47.504733Z",
     "shell.execute_reply.started": "2021-10-07T11:38:13.444496Z"
    },
    "papermill": {
     "duration": 0.060989,
     "end_time": "2021-10-07T11:38:47.504888",
     "exception": false,
     "start_time": "2021-10-07T11:38:47.443899",
     "status": "completed"
    },
    "tags": []
   },
   "outputs": [
    {
     "name": "stdout",
     "output_type": "stream",
     "text": [
      "Hangover not found in database\n"
     ]
    }
   ],
   "source": [
    "recommend('Hangover')"
   ]
  },
  {
   "cell_type": "code",
   "execution_count": null,
   "id": "8512801c",
   "metadata": {
    "papermill": {
     "duration": 0.054002,
     "end_time": "2021-10-07T11:38:47.613041",
     "exception": false,
     "start_time": "2021-10-07T11:38:47.559039",
     "status": "completed"
    },
    "tags": []
   },
   "outputs": [],
   "source": []
  }
 ],
 "metadata": {
  "kernelspec": {
   "display_name": "Python 3",
   "language": "python",
   "name": "python3"
  },
  "language_info": {
   "codemirror_mode": {
    "name": "ipython",
    "version": 3
   },
   "file_extension": ".py",
   "mimetype": "text/x-python",
   "name": "python",
   "nbconvert_exporter": "python",
   "pygments_lexer": "ipython3",
   "version": "3.7.10"
  },
  "papermill": {
   "default_parameters": {},
   "duration": 21.754425,
   "end_time": "2021-10-07T11:38:49.375383",
   "environment_variables": {},
   "exception": null,
   "input_path": "__notebook__.ipynb",
   "output_path": "__notebook__.ipynb",
   "parameters": {},
   "start_time": "2021-10-07T11:38:27.620958",
   "version": "2.3.3"
  }
 },
 "nbformat": 4,
 "nbformat_minor": 5
}
